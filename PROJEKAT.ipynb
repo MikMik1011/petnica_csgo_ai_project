{
  "cells": [
    {
      "cell_type": "markdown",
      "metadata": {
        "id": "view-in-github",
        "colab_type": "text"
      },
      "source": [
        "<a href=\"https://colab.research.google.com/github/MikMik1011/petnica_csgo_ai_project/blob/master/PROJEKAT.ipynb\" target=\"_parent\"><img src=\"https://colab.research.google.com/assets/colab-badge.svg\" alt=\"Open In Colab\"/></a>"
      ]
    },
    {
      "cell_type": "code",
      "execution_count": 1,
      "metadata": {
        "id": "qXknHxuy71Rg",
        "colab": {
          "base_uri": "https://localhost:8080/"
        },
        "outputId": "e333deb6-4ed4-4f66-a4f6-6e91fa85957f"
      },
      "outputs": [
        {
          "output_type": "stream",
          "name": "stdout",
          "text": [
            "Looking in indexes: https://pypi.org/simple, https://us-python.pkg.dev/colab-wheels/public/simple/\n",
            "Requirement already satisfied: python-telegram-bot in /usr/local/lib/python3.7/dist-packages (13.14)\n",
            "Requirement already satisfied: certifi in /usr/local/lib/python3.7/dist-packages (from python-telegram-bot) (2022.6.15)\n",
            "Requirement already satisfied: pytz>=2018.6 in /usr/local/lib/python3.7/dist-packages (from python-telegram-bot) (2022.2.1)\n",
            "Requirement already satisfied: APScheduler==3.6.3 in /usr/local/lib/python3.7/dist-packages (from python-telegram-bot) (3.6.3)\n",
            "Requirement already satisfied: cachetools==4.2.2 in /usr/local/lib/python3.7/dist-packages (from python-telegram-bot) (4.2.2)\n",
            "Requirement already satisfied: tornado==6.1 in /usr/local/lib/python3.7/dist-packages (from python-telegram-bot) (6.1)\n",
            "Requirement already satisfied: tzlocal>=1.2 in /usr/local/lib/python3.7/dist-packages (from APScheduler==3.6.3->python-telegram-bot) (1.5.1)\n",
            "Requirement already satisfied: setuptools>=0.7 in /usr/local/lib/python3.7/dist-packages (from APScheduler==3.6.3->python-telegram-bot) (57.4.0)\n",
            "Requirement already satisfied: six>=1.4.0 in /usr/local/lib/python3.7/dist-packages (from APScheduler==3.6.3->python-telegram-bot) (1.15.0)\n"
          ]
        }
      ],
      "source": [
        "import numpy as np\n",
        "import math\n",
        "\n",
        "from numba import jit, cuda\n",
        "\n",
        "import tensorflow as tf\n",
        "from tensorflow import keras\n",
        "\n",
        "from tensorflow.keras.models import Sequential\n",
        "from tensorflow.keras.layers import Input\n",
        "from tensorflow.keras.layers import Dense\n",
        "from tensorflow.keras.layers import LSTM\n",
        "from tensorflow.keras.layers import Conv1D\n",
        "from sklearn.model_selection import train_test_split\n",
        "from datetime import datetime\n",
        "\n",
        "!pip install python-telegram-bot\n",
        "\n",
        "import telegram\n",
        "telegrambot = telegram.Bot(\"5458378014:AAHbuC2qcGiUEqD02i6uWVtuE8y0xP_CzEg\")"
      ]
    },
    {
      "cell_type": "code",
      "execution_count": 2,
      "metadata": {
        "id": "tcb1Qq8jFVww",
        "colab": {
          "base_uri": "https://localhost:8080/"
        },
        "outputId": "2b7b72aa-c98f-46fa-85d9-7aaa5b8530bd"
      },
      "outputs": [
        {
          "output_type": "stream",
          "name": "stdout",
          "text": [
            "Drive already mounted at /content/drive; to attempt to forcibly remount, call drive.mount(\"/content/drive\", force_remount=True).\n"
          ]
        }
      ],
      "source": [
        "from google.colab import drive\n",
        "drive.mount('/content/drive')"
      ]
    },
    {
      "cell_type": "code",
      "execution_count": null,
      "metadata": {
        "id": "6EBfoxzNtlmR"
      },
      "outputs": [],
      "source": [
        "def norm(d):\n",
        "    #arr = d.copy()\n",
        "    for c in range(d.shape[0]):\n",
        "      for i in range(d.shape[2] - 1): \n",
        "        first = d[c][0][i]\n",
        "        for j in range(d.shape[1]):\n",
        "          #arr[c][j][i] = d[c][j][i] - first\n",
        "          d[c][j][i] -= first\n",
        "    return d\n",
        "\n",
        "def minmax(d):\n",
        "    arr = d.copy()\n",
        "    for f in range(d.shape[2]):\n",
        "      xmax = d[:,:,f].max()\n",
        "      xmin = d[:,:,f].min() \n",
        "      for i in range(d.shape[0]):\n",
        "        for j in range(d.shape[1]):\n",
        "          x = arr[i][j][f]\n",
        "          x = (x - xmin) / (xmax - xmin)\n",
        "          arr[i][j][f] = x\n",
        "    return arr"
      ]
    },
    {
      "cell_type": "code",
      "execution_count": 3,
      "metadata": {
        "id": "dara8vsIVP9d"
      },
      "outputs": [],
      "source": [
        "X = np.load('/content/drive/MyDrive/PROJEKAT DATASET/X.npy')\n",
        "Y = np.load('/content/drive/MyDrive/PROJEKAT DATASET/Y.npy')"
      ]
    },
    {
      "cell_type": "code",
      "execution_count": null,
      "metadata": {
        "id": "hzhxwnvQXwOh"
      },
      "outputs": [],
      "source": [
        "X = norm(X)"
      ]
    },
    {
      "cell_type": "code",
      "execution_count": null,
      "metadata": {
        "id": "ZeyucryoPZhK"
      },
      "outputs": [],
      "source": [
        "print(X.shape)\n",
        "def distribute(arr, sample_size):\n",
        "  for i in range(arr.shape[0]):\n",
        "    sampleCount = arr.shape[1] // sample_size\n",
        "    count1 = np.empty(sampleCount)\n",
        "    for s in range(sampleCount):\n",
        "      firing = arr[i, s * sample_size : (s + 1) * sample_size, 4]\n",
        "      count1[s] = len(firing[firing == 1])\n",
        "\n",
        "    x_ = (1 / sampleCount) * sum(count1)\n",
        "    s2 = (1 / sampleCount) * sum(pow(count1 - x_, 2))\n",
        "    print(count1)\n",
        "    print(x_, s2)\n",
        "    \n",
        "\n",
        "\n",
        "distribute(X[19:20, 58], 32)"
      ]
    },
    {
      "cell_type": "code",
      "source": [
        "def findFiringIntervals(arr):\n",
        "  mrs = []\n",
        "  for i in range(arr.shape[0]):\n",
        "    intervals = [0]\n",
        "    lfi = -1\n",
        "    for j in range(arr.shape[1]):\n",
        "      if(arr[i][j][4] == 1):\n",
        "        if (lfi != j - 1):\n",
        "          intervals.append(0)\n",
        "        intervals[-1] += 1\n",
        "        lfi = j\n",
        "    biggerThan1 = [k for k in intervals if k > 0] \n",
        "    \n",
        "    #print(intervals)\n",
        "    if(len(biggerThan1)):\n",
        "      mrs.append((i, biggerThan1))\n",
        "      print(i, biggerThan1)\n",
        "  print(len(mrs))\n",
        "findFiringIntervals(X)"
      ],
      "metadata": {
        "id": "hjbAx5FKWc6-"
      },
      "execution_count": null,
      "outputs": []
    },
    {
      "cell_type": "code",
      "source": [
        "import math\n",
        "\n",
        "@jit(target_backend='cuda') \n",
        "def eq( a, b, eps = 0.0001 ):\n",
        "  try:\n",
        "    return abs( a - b ) / abs(a) <= eps\n",
        "  except:\n",
        "    return abs( b - a ) / abs(b) <= eps\n",
        "\n",
        "@jit(target_backend='cuda') \n",
        "def padding(arr, step = 0.1):\n",
        "  init = int(1 / step)\n",
        "\n",
        "  for i in range(arr.shape[0]):\n",
        "    for k in range(init, 0, -1):\n",
        "      \n",
        "      k = round(k / init, 6)\n",
        "      k_man = round(k - step, 6)\n",
        "    \n",
        "      for j in range(arr.shape[1]):\n",
        "      \n",
        "        if (eq(arr[i][j][4], k)) :\n",
        "          try:\n",
        "            if(arr[i][j-1][4] < k_man):\n",
        "              arr[i][j-1][4] = k_man\n",
        "          except:\n",
        "            pass\n",
        "\n",
        "          try:\n",
        "            if(arr[i][j+1][4] < k_man):\n",
        "              arr[i][j+1][4] = k_man\n",
        "          except:\n",
        "            pass\n",
        "        \n",
        "  return arr"
      ],
      "metadata": {
        "id": "LEa8oSHCQXg6"
      },
      "execution_count": 4,
      "outputs": []
    },
    {
      "cell_type": "code",
      "source": [
        "padX = padding(X)\n",
        "np.save('/content/drive/MyDrive/PROJEKAT DATASET/padX.npy', padX)\n",
        "print(padX[0,:,4])"
      ],
      "metadata": {
        "id": "dIhXH85rYAuq",
        "colab": {
          "base_uri": "https://localhost:8080/"
        },
        "outputId": "669a1c80-b9a5-4aca-c587-3e3f3f268e30"
      },
      "execution_count": null,
      "outputs": [
        {
          "output_type": "stream",
          "name": "stdout",
          "text": [
            "[0.  0.  0.  0.  0.  0.  0.  0.  0.  0.  0.  0.  0.  0.  0.  0.  0.  0.\n",
            " 0.  0.  0.  0.  0.  0.  0.  0.  0.  0.  0.  0.  0.  0.  0.  0.  0.  0.\n",
            " 0.  0.  0.  0.  0.  0.  0.  0.  0.  0.  0.  0.  0.  0.  0.  0.  0.  0.\n",
            " 0.  0.  0.  0.  0.  0.  0.  0.  0.  0.  0.  0.  0.  0.  0.  0.  0.  0.\n",
            " 0.  0.  0.  0.  0.  0.  0.  0.  0.  0.  0.  0.  0.  0.  0.  0.  0.  0.\n",
            " 0.  0.  0.  0.  0.  0.  0.  0.  0.  0.  0.  0.  0.  0.  0.  0.  0.  0.\n",
            " 0.  0.  0.  0.  0.  0.  0.  0.  0.  0.  0.  0.1 0.2 0.3 0.4 0.5 0.6 0.7\n",
            " 0.8 0.9 1.  0.9 0.8 0.7 0.6 0.5 0.6 0.7 0.8 0.9 1.  0.9 0.8 0.7 0.8 0.9\n",
            " 1.  0.9 0.8 0.7 0.6 0.6 0.7 0.8 0.9 1.  0.9 0.8 0.7 0.7 0.8 0.9 1.  0.9\n",
            " 0.8 0.8 0.9 1.  0.9 0.8 0.7 0.6 0.5 0.4 0.3 0.2 0.1 0.  0.  0.  0.  0.\n",
            " 0.  0.  0.  0.  0.  0.  0.  0.  0.  0.  0.  0. ]\n"
          ]
        }
      ]
    },
    {
      "cell_type": "code",
      "execution_count": null,
      "metadata": {
        "id": "-7NDpbWuP2Jj"
      },
      "outputs": [],
      "source": [
        "X = padX"
      ]
    },
    {
      "cell_type": "code",
      "execution_count": 5,
      "metadata": {
        "id": "sVLaujDUVsR3"
      },
      "outputs": [],
      "source": [
        "legitX, cheatX = np.split(X, 2)\n",
        "legitY, cheatY = np.split(Y, 2)"
      ]
    },
    {
      "cell_type": "code",
      "execution_count": 6,
      "metadata": {
        "id": "fOk42pfWXcUW"
      },
      "outputs": [],
      "source": [
        "ltX, leX, ltY, leY = train_test_split(legitX, legitY, test_size=0.20)\n",
        "ctX, ceX, ctY, ceY = train_test_split(cheatX, cheatY, test_size=0.20)"
      ]
    },
    {
      "cell_type": "code",
      "execution_count": null,
      "metadata": {
        "id": "2Lt-rtfxTwxB"
      },
      "outputs": [],
      "source": [
        "#countof1 = []\n",
        "#for i in range(ltX.shape[1] // 32):\n",
        "#  sga = ltX[2345,i * 32: (i + 1) * 32,4]\n",
        "#  countof1.append(len(sga[sga == 1]))\n",
        "\n",
        "from fitter import Fitter\n",
        "f = Fitter(ltX[2345,:,4])\n",
        "f.fit()\n",
        "f.summary()"
      ]
    },
    {
      "cell_type": "code",
      "execution_count": 7,
      "metadata": {
        "id": "qnzw08F_cjGw"
      },
      "outputs": [],
      "source": [
        "tX = np.concatenate((ltX, ctX))\n",
        "eX = np.concatenate((leX, ceX))\n",
        "tY = np.concatenate((ltY, ctY))\n",
        "eY = np.concatenate((leY, ceY))"
      ]
    },
    {
      "cell_type": "code",
      "execution_count": null,
      "metadata": {
        "id": "u9wcEPCFZ5Ke"
      },
      "outputs": [],
      "source": [
        "from sklearn.dummy import DummyClassifier\n",
        "\n",
        "zeror = DummyClassifier()\n",
        "\n",
        "zeror.fit(tX, tY)\n",
        "zeror.score(eX, eY)"
      ]
    },
    {
      "cell_type": "code",
      "execution_count": null,
      "metadata": {
        "id": "scJKgdwy_Ju6"
      },
      "outputs": [],
      "source": [
        "def oner(normalize = False):\n",
        "\n",
        "    accs = []\n",
        "  for br in range(tX.shape[2]):\n",
        "    arX = tX[:,:,br]\n",
        "    arY = np.repeat(tY, arX.shape[1])\n",
        "    if (normalize):\n",
        "      arX = norm(arX)\n",
        "    arX = np.reshape(arX, arX.shape[0] * arX.shape[1])\n",
        "    unique, unique_counts = np.unique(arX, return_counts = True)\n",
        "\n",
        "    ar1 = {}\n",
        "    ar0 = {}\n",
        "\n",
        "    for i in range(len(arX)):\n",
        "      if (arY[i] == 1):\n",
        "        try:\n",
        "          ar1[arX[i]] += 1\n",
        "        except:\n",
        "          ar1[arX[i]] = 1\n",
        "      else:\n",
        "          try:\n",
        "            ar0[arX[i]] += 1\n",
        "          except:\n",
        "            ar0[arX[i]] = 1\n",
        "\n",
        "    freq = []\n",
        "\n",
        "    for i in unique:\n",
        "      if (not ar1.get(i)):\n",
        "        freq.append(ar0[i])\n",
        "      elif (not ar0.get(i)):\n",
        "        freq.append(ar1[i])\n",
        "      else:\n",
        "        freq.append(max(ar1[i], ar0[i]))\n",
        "\n",
        "    accs.append(sum(freq) / len(arX))\n",
        "\n",
        "  return accs\n",
        "\n",
        "print(oner())\n",
        "print(oner(normalize = True))"
      ]
    },
    {
      "cell_type": "code",
      "execution_count": 5,
      "metadata": {
        "id": "NT4FVB4usIsQ"
      },
      "outputs": [],
      "source": [
        "from tensorflow.keras import backend as K\n",
        "\n",
        "def custom_f1(y_true, y_pred):    \n",
        "    def recall_m(y_true, y_pred):\n",
        "        TP = K.sum(K.round(K.clip(y_true * y_pred, 0, 1)))\n",
        "        Positives = K.sum(K.round(K.clip(y_true, 0, 1)))\n",
        "        \n",
        "        recall = TP / (Positives+K.epsilon())    \n",
        "        return recall \n",
        "    \n",
        "    \n",
        "    def precision_m(y_true, y_pred):\n",
        "        TP = K.sum(K.round(K.clip(y_true * y_pred, 0, 1)))\n",
        "        Pred_Positives = K.sum(K.round(K.clip(y_pred, 0, 1)))\n",
        "    \n",
        "        precision = TP / (Pred_Positives+K.epsilon())\n",
        "        return precision \n",
        "    \n",
        "    precision, recall = precision_m(y_true, y_pred), recall_m(y_true, y_pred)\n",
        "    \n",
        "    return 2*((precision*recall)/(precision+recall+K.epsilon()))"
      ]
    },
    {
      "cell_type": "code",
      "execution_count": 6,
      "metadata": {
        "id": "lh3j_ByfwrGI"
      },
      "outputs": [],
      "source": [
        "class CustomCallback(keras.callbacks.Callback):\n",
        "    \n",
        "    def on_train_begin(self, logs=None):\n",
        "        telegrambot.send_message(text=f\"Fit started\", chat_id=1163033817)\n",
        "      \n",
        "    def on_train_end(self, logs=None):\n",
        "        telegrambot.send_message(text=f\"Fit ended\", chat_id=1163033817)\n",
        "    \n",
        "    def on_epoch_end(self, epoch, logs=None):\n",
        "      epoch += 1\n",
        "      telegrambot.send_message(text=f\"Epoch {epoch} ended \\n\\nTrain accuracy: {logs['binary_accuracy']} \\nTrain F1-score: {logs['custom_f1']} \\nTrain loss: {logs['loss']} \\n\\nValidation accuracy: {logs['val_binary_accuracy']} \\nValidation F1-score: {logs['val_custom_f1']} \\nValidation loss: {logs['val_loss']}\", chat_id=1163033817)\n"
      ]
    },
    {
      "cell_type": "code",
      "execution_count": null,
      "metadata": {
        "id": "tojKTbb_xnS8",
        "colab": {
          "base_uri": "https://localhost:8080/",
          "height": 281
        },
        "outputId": "4a4f593a-9bf4-46d8-a8c3-238a7b49650a"
      },
      "outputs": [
        {
          "output_type": "error",
          "ename": "NameError",
          "evalue": "ignored",
          "traceback": [
            "\u001b[0;31m---------------------------------------------------------------------------\u001b[0m",
            "\u001b[0;31mNameError\u001b[0m                                 Traceback (most recent call last)",
            "\u001b[0;32m<ipython-input-16-70f352c444c5>\u001b[0m in \u001b[0;36m<module>\u001b[0;34m\u001b[0m\n\u001b[0;32m----> 1\u001b[0;31m \u001b[0mmodel\u001b[0m \u001b[0;34m=\u001b[0m \u001b[0mSequential\u001b[0m\u001b[0;34m(\u001b[0m\u001b[0;34m)\u001b[0m\u001b[0;34m\u001b[0m\u001b[0;34m\u001b[0m\u001b[0m\n\u001b[0m\u001b[1;32m      2\u001b[0m \u001b[0mmodel\u001b[0m\u001b[0;34m.\u001b[0m\u001b[0madd\u001b[0m\u001b[0;34m(\u001b[0m\u001b[0mInput\u001b[0m\u001b[0;34m(\u001b[0m\u001b[0mshape\u001b[0m\u001b[0;34m=\u001b[0m\u001b[0;34m(\u001b[0m\u001b[0;36m192\u001b[0m\u001b[0;34m,\u001b[0m \u001b[0;36m5\u001b[0m\u001b[0;34m)\u001b[0m\u001b[0;34m)\u001b[0m\u001b[0;34m)\u001b[0m\u001b[0;34m\u001b[0m\u001b[0;34m\u001b[0m\u001b[0m\n\u001b[1;32m      3\u001b[0m \u001b[0mmodel\u001b[0m\u001b[0;34m.\u001b[0m\u001b[0madd\u001b[0m\u001b[0;34m(\u001b[0m\u001b[0mLSTM\u001b[0m\u001b[0;34m(\u001b[0m\u001b[0;36m200\u001b[0m\u001b[0;34m)\u001b[0m\u001b[0;34m)\u001b[0m\u001b[0;34m\u001b[0m\u001b[0;34m\u001b[0m\u001b[0m\n\u001b[1;32m      4\u001b[0m \u001b[0mmodel\u001b[0m\u001b[0;34m.\u001b[0m\u001b[0madd\u001b[0m\u001b[0;34m(\u001b[0m\u001b[0mDense\u001b[0m\u001b[0;34m(\u001b[0m\u001b[0;36m1\u001b[0m\u001b[0;34m,\u001b[0m \u001b[0mactivation\u001b[0m \u001b[0;34m=\u001b[0m \u001b[0;34m\"sigmoid\"\u001b[0m\u001b[0;34m)\u001b[0m\u001b[0;34m)\u001b[0m\u001b[0;34m\u001b[0m\u001b[0;34m\u001b[0m\u001b[0m\n\u001b[1;32m      5\u001b[0m \u001b[0;34m\u001b[0m\u001b[0m\n",
            "\u001b[0;31mNameError\u001b[0m: name 'Sequential' is not defined"
          ]
        }
      ],
      "source": [
        "model = Sequential()\n",
        "model.add(Input(shape=(192, 5)))\n",
        "model.add(LSTM(200))\n",
        "model.add(Dense(1, activation = \"sigmoid\"))\n",
        "\n",
        "model.compile(optimizer=keras.optimizers.Adam(learning_rate=1e-3),\n",
        "              loss=keras.losses.BinaryFocalCrossentropy(),\n",
        "              metrics=[keras.metrics.BinaryAccuracy(),\n",
        "                       custom_f1,\n",
        "                       keras.metrics.FalseNegatives(),\n",
        "                       keras.metrics.FalsePositives()\n",
        "                       ])\n"
      ]
    },
    {
      "cell_type": "code",
      "execution_count": 19,
      "metadata": {
        "id": "68L18WE2_3ue"
      },
      "outputs": [],
      "source": [
        "model = keras.models.load_model('/content/drive/MyDrive/MODELS/LSTM_2022-08-15_19:56', custom_objects={\"custom_f1\":custom_f1})"
      ]
    },
    {
      "cell_type": "code",
      "execution_count": null,
      "metadata": {
        "id": "lbHih2EvoaOr"
      },
      "outputs": [],
      "source": [
        "ntX = norm(tX)\n",
        "neX = norm(eX)"
      ]
    },
    {
      "cell_type": "code",
      "execution_count": null,
      "metadata": {
        "id": "uXRNeBLgq2T2"
      },
      "outputs": [],
      "source": [
        "rtY = tY.reshape((-1,1))\n",
        "reY = eY.reshape((-1, 1))"
      ]
    },
    {
      "cell_type": "code",
      "execution_count": null,
      "metadata": {
        "colab": {
          "base_uri": "https://localhost:8080/",
          "height": 748
        },
        "id": "yN0_Kx7K-gh4",
        "outputId": "869ff1c2-9912-44a3-9603-05f9149ba6fa"
      },
      "outputs": [
        {
          "output_type": "stream",
          "name": "stdout",
          "text": [
            "Model: \"sequential_1\"\n",
            "_________________________________________________________________\n",
            " Layer (type)                Output Shape              Param #   \n",
            "=================================================================\n",
            " lstm_1 (LSTM)               (None, 200)               164800    \n",
            "                                                                 \n",
            " dense_1 (Dense)             (None, 1)                 201       \n",
            "                                                                 \n",
            "=================================================================\n",
            "Total params: 165,001\n",
            "Trainable params: 165,001\n",
            "Non-trainable params: 0\n",
            "_________________________________________________________________\n",
            "Epoch 1/15\n",
            "3840/3840 [==============================] - 56s 14ms/step - loss: 0.1745 - binary_accuracy: 0.5277 - custom_f1: 0.5054 - false_negatives_1: 22847.0000 - false_positives_1: 22492.0000 - val_loss: 0.1728 - val_binary_accuracy: 0.5339 - val_custom_f1: 0.4341 - val_false_negatives_1: 2748.0000 - val_false_positives_1: 8438.0000\n",
            "Epoch 2/15\n",
            "1970/3840 [==============>...............] - ETA: 23s - loss: 0.1714 - binary_accuracy: 0.5583 - custom_f1: 0.5328 - false_negatives_1: 11469.0000 - false_positives_1: 10286.0000"
          ]
        },
        {
          "output_type": "error",
          "ename": "KeyboardInterrupt",
          "evalue": "ignored",
          "traceback": [
            "\u001b[0;31m---------------------------------------------------------------------------\u001b[0m",
            "\u001b[0;31mKeyboardInterrupt\u001b[0m                         Traceback (most recent call last)",
            "\u001b[0;32m<ipython-input-29-962ef74dec07>\u001b[0m in \u001b[0;36m<module>\u001b[0;34m\u001b[0m\n\u001b[1;32m      1\u001b[0m \u001b[0mmodel\u001b[0m\u001b[0;34m.\u001b[0m\u001b[0msummary\u001b[0m\u001b[0;34m(\u001b[0m\u001b[0;34m)\u001b[0m\u001b[0;34m\u001b[0m\u001b[0;34m\u001b[0m\u001b[0m\n\u001b[0;32m----> 2\u001b[0;31m \u001b[0mmodel\u001b[0m\u001b[0;34m.\u001b[0m\u001b[0mfit\u001b[0m\u001b[0;34m(\u001b[0m\u001b[0mtX\u001b[0m\u001b[0;34m,\u001b[0m \u001b[0mtY\u001b[0m\u001b[0;34m,\u001b[0m \u001b[0mbatch_size\u001b[0m \u001b[0;34m=\u001b[0m \u001b[0;36m25\u001b[0m\u001b[0;34m,\u001b[0m \u001b[0mepochs\u001b[0m \u001b[0;34m=\u001b[0m \u001b[0;36m15\u001b[0m\u001b[0;34m,\u001b[0m \u001b[0mvalidation_data\u001b[0m \u001b[0;34m=\u001b[0m \u001b[0;34m(\u001b[0m\u001b[0meX\u001b[0m\u001b[0;34m,\u001b[0m \u001b[0meY\u001b[0m\u001b[0;34m)\u001b[0m\u001b[0;34m,\u001b[0m \u001b[0mshuffle\u001b[0m \u001b[0;34m=\u001b[0m \u001b[0;32mTrue\u001b[0m\u001b[0;34m,\u001b[0m \u001b[0muse_multiprocessing\u001b[0m \u001b[0;34m=\u001b[0m \u001b[0;32mTrue\u001b[0m\u001b[0;34m,\u001b[0m \u001b[0mverbose\u001b[0m \u001b[0;34m=\u001b[0m \u001b[0;36m1\u001b[0m\u001b[0;34m,\u001b[0m \u001b[0mcallbacks\u001b[0m\u001b[0;34m=\u001b[0m\u001b[0;34m[\u001b[0m\u001b[0mCustomCallback\u001b[0m\u001b[0;34m(\u001b[0m\u001b[0;34m)\u001b[0m\u001b[0;34m]\u001b[0m\u001b[0;34m)\u001b[0m\u001b[0;34m\u001b[0m\u001b[0;34m\u001b[0m\u001b[0m\n\u001b[0m\u001b[1;32m      3\u001b[0m \u001b[0mmodel\u001b[0m\u001b[0;34m.\u001b[0m\u001b[0msave\u001b[0m\u001b[0;34m(\u001b[0m\u001b[0;34m\"/content/drive/MyDrive/MODELS/LSTM_\"\u001b[0m \u001b[0;34m+\u001b[0m \u001b[0mdatetime\u001b[0m\u001b[0;34m.\u001b[0m\u001b[0mnow\u001b[0m\u001b[0;34m(\u001b[0m\u001b[0;34m)\u001b[0m\u001b[0;34m.\u001b[0m\u001b[0mstrftime\u001b[0m\u001b[0;34m(\u001b[0m\u001b[0;34m\"%Y-%m-%d_%H:%M\"\u001b[0m\u001b[0;34m)\u001b[0m\u001b[0;34m)\u001b[0m\u001b[0;34m\u001b[0m\u001b[0;34m\u001b[0m\u001b[0m\n\u001b[1;32m      4\u001b[0m \u001b[0mtelegrambot\u001b[0m\u001b[0;34m.\u001b[0m\u001b[0msend_message\u001b[0m\u001b[0;34m(\u001b[0m\u001b[0mtext\u001b[0m\u001b[0;34m=\u001b[0m\u001b[0;34mf\"Model saved\"\u001b[0m\u001b[0;34m,\u001b[0m \u001b[0mchat_id\u001b[0m\u001b[0;34m=\u001b[0m\u001b[0;36m1163033817\u001b[0m\u001b[0;34m)\u001b[0m\u001b[0;34m\u001b[0m\u001b[0;34m\u001b[0m\u001b[0m\n",
            "\u001b[0;32m/usr/local/lib/python3.7/dist-packages/keras/utils/traceback_utils.py\u001b[0m in \u001b[0;36merror_handler\u001b[0;34m(*args, **kwargs)\u001b[0m\n\u001b[1;32m     62\u001b[0m     \u001b[0mfiltered_tb\u001b[0m \u001b[0;34m=\u001b[0m \u001b[0;32mNone\u001b[0m\u001b[0;34m\u001b[0m\u001b[0;34m\u001b[0m\u001b[0m\n\u001b[1;32m     63\u001b[0m     \u001b[0;32mtry\u001b[0m\u001b[0;34m:\u001b[0m\u001b[0;34m\u001b[0m\u001b[0;34m\u001b[0m\u001b[0m\n\u001b[0;32m---> 64\u001b[0;31m       \u001b[0;32mreturn\u001b[0m \u001b[0mfn\u001b[0m\u001b[0;34m(\u001b[0m\u001b[0;34m*\u001b[0m\u001b[0margs\u001b[0m\u001b[0;34m,\u001b[0m \u001b[0;34m**\u001b[0m\u001b[0mkwargs\u001b[0m\u001b[0;34m)\u001b[0m\u001b[0;34m\u001b[0m\u001b[0;34m\u001b[0m\u001b[0m\n\u001b[0m\u001b[1;32m     65\u001b[0m     \u001b[0;32mexcept\u001b[0m \u001b[0mException\u001b[0m \u001b[0;32mas\u001b[0m \u001b[0me\u001b[0m\u001b[0;34m:\u001b[0m  \u001b[0;31m# pylint: disable=broad-except\u001b[0m\u001b[0;34m\u001b[0m\u001b[0;34m\u001b[0m\u001b[0m\n\u001b[1;32m     66\u001b[0m       \u001b[0mfiltered_tb\u001b[0m \u001b[0;34m=\u001b[0m \u001b[0m_process_traceback_frames\u001b[0m\u001b[0;34m(\u001b[0m\u001b[0me\u001b[0m\u001b[0;34m.\u001b[0m\u001b[0m__traceback__\u001b[0m\u001b[0;34m)\u001b[0m\u001b[0;34m\u001b[0m\u001b[0;34m\u001b[0m\u001b[0m\n",
            "\u001b[0;32m/usr/local/lib/python3.7/dist-packages/keras/engine/training.py\u001b[0m in \u001b[0;36mfit\u001b[0;34m(self, x, y, batch_size, epochs, verbose, callbacks, validation_split, validation_data, shuffle, class_weight, sample_weight, initial_epoch, steps_per_epoch, validation_steps, validation_batch_size, validation_freq, max_queue_size, workers, use_multiprocessing)\u001b[0m\n\u001b[1;32m   1382\u001b[0m                 _r=1):\n\u001b[1;32m   1383\u001b[0m               \u001b[0mcallbacks\u001b[0m\u001b[0;34m.\u001b[0m\u001b[0mon_train_batch_begin\u001b[0m\u001b[0;34m(\u001b[0m\u001b[0mstep\u001b[0m\u001b[0;34m)\u001b[0m\u001b[0;34m\u001b[0m\u001b[0;34m\u001b[0m\u001b[0m\n\u001b[0;32m-> 1384\u001b[0;31m               \u001b[0mtmp_logs\u001b[0m \u001b[0;34m=\u001b[0m \u001b[0mself\u001b[0m\u001b[0;34m.\u001b[0m\u001b[0mtrain_function\u001b[0m\u001b[0;34m(\u001b[0m\u001b[0miterator\u001b[0m\u001b[0;34m)\u001b[0m\u001b[0;34m\u001b[0m\u001b[0;34m\u001b[0m\u001b[0m\n\u001b[0m\u001b[1;32m   1385\u001b[0m               \u001b[0;32mif\u001b[0m \u001b[0mdata_handler\u001b[0m\u001b[0;34m.\u001b[0m\u001b[0mshould_sync\u001b[0m\u001b[0;34m:\u001b[0m\u001b[0;34m\u001b[0m\u001b[0;34m\u001b[0m\u001b[0m\n\u001b[1;32m   1386\u001b[0m                 \u001b[0mcontext\u001b[0m\u001b[0;34m.\u001b[0m\u001b[0masync_wait\u001b[0m\u001b[0;34m(\u001b[0m\u001b[0;34m)\u001b[0m\u001b[0;34m\u001b[0m\u001b[0;34m\u001b[0m\u001b[0m\n",
            "\u001b[0;32m/usr/local/lib/python3.7/dist-packages/tensorflow/python/util/traceback_utils.py\u001b[0m in \u001b[0;36merror_handler\u001b[0;34m(*args, **kwargs)\u001b[0m\n\u001b[1;32m    148\u001b[0m     \u001b[0mfiltered_tb\u001b[0m \u001b[0;34m=\u001b[0m \u001b[0;32mNone\u001b[0m\u001b[0;34m\u001b[0m\u001b[0;34m\u001b[0m\u001b[0m\n\u001b[1;32m    149\u001b[0m     \u001b[0;32mtry\u001b[0m\u001b[0;34m:\u001b[0m\u001b[0;34m\u001b[0m\u001b[0;34m\u001b[0m\u001b[0m\n\u001b[0;32m--> 150\u001b[0;31m       \u001b[0;32mreturn\u001b[0m \u001b[0mfn\u001b[0m\u001b[0;34m(\u001b[0m\u001b[0;34m*\u001b[0m\u001b[0margs\u001b[0m\u001b[0;34m,\u001b[0m \u001b[0;34m**\u001b[0m\u001b[0mkwargs\u001b[0m\u001b[0;34m)\u001b[0m\u001b[0;34m\u001b[0m\u001b[0;34m\u001b[0m\u001b[0m\n\u001b[0m\u001b[1;32m    151\u001b[0m     \u001b[0;32mexcept\u001b[0m \u001b[0mException\u001b[0m \u001b[0;32mas\u001b[0m \u001b[0me\u001b[0m\u001b[0;34m:\u001b[0m\u001b[0;34m\u001b[0m\u001b[0;34m\u001b[0m\u001b[0m\n\u001b[1;32m    152\u001b[0m       \u001b[0mfiltered_tb\u001b[0m \u001b[0;34m=\u001b[0m \u001b[0m_process_traceback_frames\u001b[0m\u001b[0;34m(\u001b[0m\u001b[0me\u001b[0m\u001b[0;34m.\u001b[0m\u001b[0m__traceback__\u001b[0m\u001b[0;34m)\u001b[0m\u001b[0;34m\u001b[0m\u001b[0;34m\u001b[0m\u001b[0m\n",
            "\u001b[0;32m/usr/local/lib/python3.7/dist-packages/tensorflow/python/eager/def_function.py\u001b[0m in \u001b[0;36m__call__\u001b[0;34m(self, *args, **kwds)\u001b[0m\n\u001b[1;32m    913\u001b[0m \u001b[0;34m\u001b[0m\u001b[0m\n\u001b[1;32m    914\u001b[0m       \u001b[0;32mwith\u001b[0m \u001b[0mOptionalXlaContext\u001b[0m\u001b[0;34m(\u001b[0m\u001b[0mself\u001b[0m\u001b[0;34m.\u001b[0m\u001b[0m_jit_compile\u001b[0m\u001b[0;34m)\u001b[0m\u001b[0;34m:\u001b[0m\u001b[0;34m\u001b[0m\u001b[0;34m\u001b[0m\u001b[0m\n\u001b[0;32m--> 915\u001b[0;31m         \u001b[0mresult\u001b[0m \u001b[0;34m=\u001b[0m \u001b[0mself\u001b[0m\u001b[0;34m.\u001b[0m\u001b[0m_call\u001b[0m\u001b[0;34m(\u001b[0m\u001b[0;34m*\u001b[0m\u001b[0margs\u001b[0m\u001b[0;34m,\u001b[0m \u001b[0;34m**\u001b[0m\u001b[0mkwds\u001b[0m\u001b[0;34m)\u001b[0m\u001b[0;34m\u001b[0m\u001b[0;34m\u001b[0m\u001b[0m\n\u001b[0m\u001b[1;32m    916\u001b[0m \u001b[0;34m\u001b[0m\u001b[0m\n\u001b[1;32m    917\u001b[0m       \u001b[0mnew_tracing_count\u001b[0m \u001b[0;34m=\u001b[0m \u001b[0mself\u001b[0m\u001b[0;34m.\u001b[0m\u001b[0mexperimental_get_tracing_count\u001b[0m\u001b[0;34m(\u001b[0m\u001b[0;34m)\u001b[0m\u001b[0;34m\u001b[0m\u001b[0;34m\u001b[0m\u001b[0m\n",
            "\u001b[0;32m/usr/local/lib/python3.7/dist-packages/tensorflow/python/eager/def_function.py\u001b[0m in \u001b[0;36m_call\u001b[0;34m(self, *args, **kwds)\u001b[0m\n\u001b[1;32m    945\u001b[0m       \u001b[0;31m# In this case we have created variables on the first call, so we run the\u001b[0m\u001b[0;34m\u001b[0m\u001b[0;34m\u001b[0m\u001b[0;34m\u001b[0m\u001b[0m\n\u001b[1;32m    946\u001b[0m       \u001b[0;31m# defunned version which is guaranteed to never create variables.\u001b[0m\u001b[0;34m\u001b[0m\u001b[0;34m\u001b[0m\u001b[0;34m\u001b[0m\u001b[0m\n\u001b[0;32m--> 947\u001b[0;31m       \u001b[0;32mreturn\u001b[0m \u001b[0mself\u001b[0m\u001b[0;34m.\u001b[0m\u001b[0m_stateless_fn\u001b[0m\u001b[0;34m(\u001b[0m\u001b[0;34m*\u001b[0m\u001b[0margs\u001b[0m\u001b[0;34m,\u001b[0m \u001b[0;34m**\u001b[0m\u001b[0mkwds\u001b[0m\u001b[0;34m)\u001b[0m  \u001b[0;31m# pylint: disable=not-callable\u001b[0m\u001b[0;34m\u001b[0m\u001b[0;34m\u001b[0m\u001b[0m\n\u001b[0m\u001b[1;32m    948\u001b[0m     \u001b[0;32melif\u001b[0m \u001b[0mself\u001b[0m\u001b[0;34m.\u001b[0m\u001b[0m_stateful_fn\u001b[0m \u001b[0;32mis\u001b[0m \u001b[0;32mnot\u001b[0m \u001b[0;32mNone\u001b[0m\u001b[0;34m:\u001b[0m\u001b[0;34m\u001b[0m\u001b[0;34m\u001b[0m\u001b[0m\n\u001b[1;32m    949\u001b[0m       \u001b[0;31m# Release the lock early so that multiple threads can perform the call\u001b[0m\u001b[0;34m\u001b[0m\u001b[0;34m\u001b[0m\u001b[0;34m\u001b[0m\u001b[0m\n",
            "\u001b[0;32m/usr/local/lib/python3.7/dist-packages/tensorflow/python/eager/function.py\u001b[0m in \u001b[0;36m__call__\u001b[0;34m(self, *args, **kwargs)\u001b[0m\n\u001b[1;32m   2955\u001b[0m        filtered_flat_args) = self._maybe_define_function(args, kwargs)\n\u001b[1;32m   2956\u001b[0m     return graph_function._call_flat(\n\u001b[0;32m-> 2957\u001b[0;31m         filtered_flat_args, captured_inputs=graph_function.captured_inputs)  # pylint: disable=protected-access\n\u001b[0m\u001b[1;32m   2958\u001b[0m \u001b[0;34m\u001b[0m\u001b[0m\n\u001b[1;32m   2959\u001b[0m   \u001b[0;34m@\u001b[0m\u001b[0mproperty\u001b[0m\u001b[0;34m\u001b[0m\u001b[0;34m\u001b[0m\u001b[0m\n",
            "\u001b[0;32m/usr/local/lib/python3.7/dist-packages/tensorflow/python/eager/function.py\u001b[0m in \u001b[0;36m_call_flat\u001b[0;34m(self, args, captured_inputs, cancellation_manager)\u001b[0m\n\u001b[1;32m   1852\u001b[0m       \u001b[0;31m# No tape is watching; skip to running the function.\u001b[0m\u001b[0;34m\u001b[0m\u001b[0;34m\u001b[0m\u001b[0;34m\u001b[0m\u001b[0m\n\u001b[1;32m   1853\u001b[0m       return self._build_call_outputs(self._inference_function.call(\n\u001b[0;32m-> 1854\u001b[0;31m           ctx, args, cancellation_manager=cancellation_manager))\n\u001b[0m\u001b[1;32m   1855\u001b[0m     forward_backward = self._select_forward_and_backward_functions(\n\u001b[1;32m   1856\u001b[0m         \u001b[0margs\u001b[0m\u001b[0;34m,\u001b[0m\u001b[0;34m\u001b[0m\u001b[0;34m\u001b[0m\u001b[0m\n",
            "\u001b[0;32m/usr/local/lib/python3.7/dist-packages/tensorflow/python/eager/function.py\u001b[0m in \u001b[0;36mcall\u001b[0;34m(self, ctx, args, cancellation_manager)\u001b[0m\n\u001b[1;32m    502\u001b[0m               \u001b[0minputs\u001b[0m\u001b[0;34m=\u001b[0m\u001b[0margs\u001b[0m\u001b[0;34m,\u001b[0m\u001b[0;34m\u001b[0m\u001b[0;34m\u001b[0m\u001b[0m\n\u001b[1;32m    503\u001b[0m               \u001b[0mattrs\u001b[0m\u001b[0;34m=\u001b[0m\u001b[0mattrs\u001b[0m\u001b[0;34m,\u001b[0m\u001b[0;34m\u001b[0m\u001b[0;34m\u001b[0m\u001b[0m\n\u001b[0;32m--> 504\u001b[0;31m               ctx=ctx)\n\u001b[0m\u001b[1;32m    505\u001b[0m         \u001b[0;32melse\u001b[0m\u001b[0;34m:\u001b[0m\u001b[0;34m\u001b[0m\u001b[0;34m\u001b[0m\u001b[0m\n\u001b[1;32m    506\u001b[0m           outputs = execute.execute_with_cancellation(\n",
            "\u001b[0;32m/usr/local/lib/python3.7/dist-packages/tensorflow/python/eager/execute.py\u001b[0m in \u001b[0;36mquick_execute\u001b[0;34m(op_name, num_outputs, inputs, attrs, ctx, name)\u001b[0m\n\u001b[1;32m     53\u001b[0m     \u001b[0mctx\u001b[0m\u001b[0;34m.\u001b[0m\u001b[0mensure_initialized\u001b[0m\u001b[0;34m(\u001b[0m\u001b[0;34m)\u001b[0m\u001b[0;34m\u001b[0m\u001b[0;34m\u001b[0m\u001b[0m\n\u001b[1;32m     54\u001b[0m     tensors = pywrap_tfe.TFE_Py_Execute(ctx._handle, device_name, op_name,\n\u001b[0;32m---> 55\u001b[0;31m                                         inputs, attrs, num_outputs)\n\u001b[0m\u001b[1;32m     56\u001b[0m   \u001b[0;32mexcept\u001b[0m \u001b[0mcore\u001b[0m\u001b[0;34m.\u001b[0m\u001b[0m_NotOkStatusException\u001b[0m \u001b[0;32mas\u001b[0m \u001b[0me\u001b[0m\u001b[0;34m:\u001b[0m\u001b[0;34m\u001b[0m\u001b[0;34m\u001b[0m\u001b[0m\n\u001b[1;32m     57\u001b[0m     \u001b[0;32mif\u001b[0m \u001b[0mname\u001b[0m \u001b[0;32mis\u001b[0m \u001b[0;32mnot\u001b[0m \u001b[0;32mNone\u001b[0m\u001b[0;34m:\u001b[0m\u001b[0;34m\u001b[0m\u001b[0;34m\u001b[0m\u001b[0m\n",
            "\u001b[0;31mKeyboardInterrupt\u001b[0m: "
          ]
        }
      ],
      "source": [
        "model.summary()\n",
        "model.fit(tX, tY, batch_size = 25, epochs = 15, validation_data = (eX, eY), shuffle = True, use_multiprocessing = True, verbose = 1, callbacks=[CustomCallback()])\n",
        "model.save(\"/content/drive/MyDrive/MODELS/LSTM_\" + datetime.now().strftime(\"%Y-%m-%d_%H:%M\"))\n",
        "telegrambot.send_message(text=f\"Model saved\", chat_id=1163033817)"
      ]
    },
    {
      "cell_type": "code",
      "execution_count": 20,
      "metadata": {
        "id": "LMvT6mTpBpTs",
        "colab": {
          "base_uri": "https://localhost:8080/"
        },
        "outputId": "2c8812e1-ea6a-46bf-9006-d274af96354e"
      },
      "outputs": [
        {
          "output_type": "stream",
          "name": "stdout",
          "text": [
            "[[0.8803348  0.11539428]\n",
            " [0.1196652  0.88460572]]\n"
          ]
        }
      ],
      "source": [
        "from sklearn.metrics import confusion_matrix\n",
        "\n",
        "predY = model.predict(eX)\n",
        "\n",
        "confMatr = confusion_matrix(eY, np.round(predY, decimals = 0) , normalize='pred')\n",
        "print(confMatr)"
      ]
    },
    {
      "cell_type": "code",
      "source": [
        "import matplotlib.pyplot as plt\n",
        "from matplotlib.colors import ListedColormap\n",
        "import seaborn\n",
        "\n",
        "seaborn.heatmap(confMatr, annot = True, cmap = ListedColormap(['white', \"green\"]), cbar = False, xticklabels = [\"Negatives\", \"Positives\"], yticklabels = [\"Negatives\", \"Positives\"])\n",
        "\n",
        "padding = 1.0\n",
        "\n",
        "plt.title(f'Confusion matrix for the model with {padding} padding')\n",
        "plt.xlabel(\"Predicted\")\n",
        "plt.ylabel(\"Actual\")\n",
        "plt.show()"
      ],
      "metadata": {
        "colab": {
          "base_uri": "https://localhost:8080/",
          "height": 295
        },
        "id": "OS1dCfUfxy7s",
        "outputId": "4e5475db-5caf-41a6-967d-7ff083c2a65e"
      },
      "execution_count": 29,
      "outputs": [
        {
          "output_type": "display_data",
          "data": {
            "text/plain": [
              "<Figure size 432x288 with 1 Axes>"
            ],
            "image/png": "[encoded data removed]"
          },
          "metadata": {
            "needs_background": "light"
          }
        }
      ]
    },
    {
      "cell_type": "code",
      "execution_count": null,
      "metadata": {
        "id": "EmAS6IwRQKQs"
      },
      "outputs": [],
      "source": [
        "min(eX[:,:,3].reshape(-1))"
      ]
    },
    {
      "cell_type": "code",
      "execution_count": null,
      "metadata": {
        "colab": {
          "base_uri": "https://localhost:8080/"
        },
        "id": "oxrsxNWRGdlW",
        "outputId": "02beb85a-288b-4133-9701-696e81db76e1"
      },
      "outputs": [
        {
          "data": {
            "text/plain": [
              "[PhysicalDevice(name='/physical_device:GPU:0', device_type='GPU')]"
            ]
          },
          "execution_count": 15,
          "metadata": {},
          "output_type": "execute_result"
        }
      ],
      "source": [
        "tf.config.list_physical_devices('GPU')"
      ]
    },
    {
      "cell_type": "code",
      "source": [
        "dividors = [1, 2, 3, 4, 5, 7, 10, 14, 20, 25, 33, 50, 100]\n",
        "\n",
        "for d in dividors:\n",
        "  d = 1 / d\n",
        "  padX = padding(X, d)\n",
        "\n",
        "  legitX, cheatX = np.split(padX, 2)\n",
        "  legitY, cheatY = np.split(Y, 2)\n",
        "\n",
        "  ltX, leX, ltY, leY = train_test_split(legitX, legitY, test_size=0.20)\n",
        "  ctX, ceX, ctY, ceY = train_test_split(cheatX, cheatY, test_size=0.20)\n",
        "\n",
        "  tX = np.concatenate((ltX, ctX))\n",
        "  eX = np.concatenate((leX, ceX))\n",
        "  tY = np.concatenate((ltY, ctY))\n",
        "  eY = np.concatenate((leY, ceY))\n",
        "\n",
        "  model = Sequential()\n",
        "  model.add(Input(shape=(192, 5)))\n",
        "  model.add(LSTM(200))\n",
        "  model.add(Dense(1, activation = \"sigmoid\"))\n",
        "\n",
        "  model.compile(optimizer=keras.optimizers.Adam(learning_rate=1e-3),\n",
        "              loss=keras.losses.BinaryFocalCrossentropy(),\n",
        "              metrics=[keras.metrics.BinaryAccuracy(),\n",
        "                       custom_f1,\n",
        "                       keras.metrics.FalseNegatives(),\n",
        "                       keras.metrics.FalsePositives()\n",
        "                       ])\n",
        "\n",
        "  print(f\"Padding: {d}\\n\\n\")\n",
        "  telegrambot.send_message(text=f\"Padding: {d}\", chat_id=1163033817)\n",
        "  model.summary()\n",
        "  model.fit(tX, tY, batch_size = 25, epochs = 15, validation_data = (eX, eY), shuffle = True, use_multiprocessing = True, verbose = 1, callbacks=[CustomCallback()])\n",
        "  model.save(\"/content/drive/MyDrive/MODELS/LSTM_\" + datetime.now().strftime(\"%Y-%m-%d_%H:%M\"))\n",
        "  telegrambot.send_message(text=f\"Model saved\", chat_id=1163033817)"
      ],
      "metadata": {
        "colab": {
          "base_uri": "https://localhost:8080/"
        },
        "id": "n0ntp5EH-S9P",
        "outputId": "bfc8bba9-324b-484a-d79c-fef81edbf728"
      },
      "execution_count": null,
      "outputs": [
        {
          "output_type": "stream",
          "name": "stdout",
          "text": [
            "Padding: 1.0\n",
            "\n",
            "\n",
            "Model: \"sequential_1\"\n",
            "_________________________________________________________________\n",
            " Layer (type)                Output Shape              Param #   \n",
            "=================================================================\n",
            " lstm_1 (LSTM)               (None, 200)               164800    \n",
            "                                                                 \n",
            " dense_1 (Dense)             (None, 1)                 201       \n",
            "                                                                 \n",
            "=================================================================\n",
            "Total params: 165,001\n",
            "Trainable params: 165,001\n",
            "Non-trainable params: 0\n",
            "_________________________________________________________________\n",
            "Epoch 1/15\n",
            "3840/3840 [==============================] - 58s 15ms/step - loss: 0.1744 - binary_accuracy: 0.5295 - custom_f1: 0.5063 - false_negatives_1: 22650.0000 - false_positives_1: 22516.0000 - val_loss: 0.1720 - val_binary_accuracy: 0.5420 - val_custom_f1: 0.3293 - val_false_negatives_1: 6030.0000 - val_false_positives_1: 4963.0000\n",
            "Epoch 2/15\n",
            "3840/3840 [==============================] - 59s 15ms/step - loss: 0.1710 - binary_accuracy: 0.5617 - custom_f1: 0.5277 - false_negatives_1: 22679.0000 - false_positives_1: 19398.0000 - val_loss: 0.1691 - val_binary_accuracy: 0.5820 - val_custom_f1: 0.3262 - val_false_negatives_1: 6104.0000 - val_false_positives_1: 3928.0000\n",
            "Epoch 3/15\n",
            "3840/3840 [==============================] - 54s 14ms/step - loss: 0.1668 - binary_accuracy: 0.5987 - custom_f1: 0.5637 - false_negatives_1: 21571.0000 - false_positives_1: 16952.0000 - val_loss: 0.1624 - val_binary_accuracy: 0.6251 - val_custom_f1: 0.4118 - val_false_negatives_1: 3542.0000 - val_false_positives_1: 5455.0000\n",
            "Epoch 4/15\n",
            "3840/3840 [==============================] - 59s 15ms/step - loss: 0.1560 - binary_accuracy: 0.6524 - custom_f1: 0.6184 - false_negatives_1: 19518.0000 - false_positives_1: 13847.0000 - val_loss: 0.1536 - val_binary_accuracy: 0.6598 - val_custom_f1: 0.4012 - val_false_negatives_1: 3895.0000 - val_false_positives_1: 4270.0000\n",
            "Epoch 5/15\n",
            "3840/3840 [==============================] - 54s 14ms/step - loss: 0.1499 - binary_accuracy: 0.6758 - custom_f1: 0.6443 - false_negatives_1: 18317.0000 - false_positives_1: 12809.0000 - val_loss: 0.1482 - val_binary_accuracy: 0.6805 - val_custom_f1: 0.3750 - val_false_negatives_1: 4724.0000 - val_false_positives_1: 2943.0000\n",
            "Epoch 6/15\n",
            "3840/3840 [==============================] - 54s 14ms/step - loss: 0.1436 - binary_accuracy: 0.6991 - custom_f1: 0.6720 - false_negatives_1: 16953.0000 - false_positives_1: 11929.0000 - val_loss: 0.1474 - val_binary_accuracy: 0.6890 - val_custom_f1: 0.4219 - val_false_negatives_1: 3182.0000 - val_false_positives_1: 4283.0000\n",
            "Epoch 7/15\n",
            "3840/3840 [==============================] - 59s 15ms/step - loss: 0.1371 - binary_accuracy: 0.7212 - custom_f1: 0.6973 - false_negatives_1: 15647.0000 - false_positives_1: 11116.0000 - val_loss: 0.1420 - val_binary_accuracy: 0.7115 - val_custom_f1: 0.4159 - val_false_negatives_1: 3391.0000 - val_false_positives_1: 3534.0000\n",
            "Epoch 8/15\n",
            "3840/3840 [==============================] - 54s 14ms/step - loss: 0.1302 - binary_accuracy: 0.7427 - custom_f1: 0.7215 - false_negatives_1: 14563.0000 - false_positives_1: 10138.0000 - val_loss: 0.1365 - val_binary_accuracy: 0.7281 - val_custom_f1: 0.4198 - val_false_negatives_1: 3257.0000 - val_false_positives_1: 3268.0000\n",
            "Epoch 9/15\n",
            "3840/3840 [==============================] - 54s 14ms/step - loss: 0.1229 - binary_accuracy: 0.7648 - custom_f1: 0.7466 - false_negatives_1: 13151.0000 - false_positives_1: 9425.0000 - val_loss: 0.1349 - val_binary_accuracy: 0.7358 - val_custom_f1: 0.4155 - val_false_negatives_1: 3414.0000 - val_false_positives_1: 2927.0000\n",
            "Epoch 10/15\n",
            "3840/3840 [==============================] - 54s 14ms/step - loss: 0.1159 - binary_accuracy: 0.7823 - custom_f1: 0.7664 - false_negatives_1: 12113.0000 - false_positives_1: 8784.0000 - val_loss: 0.1315 - val_binary_accuracy: 0.7508 - val_custom_f1: 0.4276 - val_false_negatives_1: 2987.0000 - val_false_positives_1: 2994.0000\n",
            "Epoch 11/15\n",
            "3840/3840 [==============================] - 54s 14ms/step - loss: 0.1088 - binary_accuracy: 0.8015 - custom_f1: 0.7892 - false_negatives_1: 10843.0000 - false_positives_1: 8216.0000 - val_loss: 0.1273 - val_binary_accuracy: 0.7611 - val_custom_f1: 0.4294 - val_false_negatives_1: 2921.0000 - val_false_positives_1: 2812.0000\n",
            "Epoch 12/15\n",
            "3840/3840 [==============================] - 59s 15ms/step - loss: 0.1024 - binary_accuracy: 0.8158 - custom_f1: 0.8046 - false_negatives_1: 9973.0000 - false_positives_1: 7712.0000 - val_loss: 0.1303 - val_binary_accuracy: 0.7626 - val_custom_f1: 0.4381 - val_false_negatives_1: 2597.0000 - val_false_positives_1: 3101.0000\n",
            "Epoch 13/15\n",
            "3840/3840 [==============================] - 55s 14ms/step - loss: 0.0967 - binary_accuracy: 0.8299 - custom_f1: 0.8200 - false_negatives_1: 9130.0000 - false_positives_1: 7197.0000 - val_loss: 0.1215 - val_binary_accuracy: 0.7751 - val_custom_f1: 0.4334 - val_false_negatives_1: 2771.0000 - val_false_positives_1: 2627.0000\n",
            "Epoch 14/15\n",
            "3840/3840 [==============================] - 54s 14ms/step - loss: 0.0912 - binary_accuracy: 0.8415 - custom_f1: 0.8319 - false_negatives_1: 8513.0000 - false_positives_1: 6706.0000 - val_loss: 0.1301 - val_binary_accuracy: 0.7827 - val_custom_f1: 0.4444 - val_false_negatives_1: 2359.0000 - val_false_positives_1: 2856.0000\n",
            "Epoch 15/15\n",
            "3840/3840 [==============================] - 55s 14ms/step - loss: 0.0862 - binary_accuracy: 0.8521 - custom_f1: 0.8442 - false_negatives_1: 7828.0000 - false_positives_1: 6366.0000 - val_loss: 0.1218 - val_binary_accuracy: 0.7894 - val_custom_f1: 0.4401 - val_false_negatives_1: 2519.0000 - val_false_positives_1: 2535.0000\n"
          ]
        },
        {
          "output_type": "stream",
          "name": "stderr",
          "text": [
            "WARNING:absl:Found untraced functions such as lstm_cell_1_layer_call_fn, lstm_cell_1_layer_call_and_return_conditional_losses while saving (showing 2 of 2). These functions will not be directly callable after loading.\n",
            "WARNING:absl:<keras.layers.recurrent.LSTMCell object at 0x7fb8b2c76c10> has the same name 'LSTMCell' as a built-in Keras object. Consider renaming <class 'keras.layers.recurrent.LSTMCell'> to avoid naming conflicts when loading with `tf.keras.models.load_model`. If renaming is not possible, pass the object in the `custom_objects` parameter of the load function.\n"
          ]
        },
        {
          "output_type": "stream",
          "name": "stdout",
          "text": [
            "Padding: 0.5\n",
            "\n",
            "\n",
            "Model: \"sequential_2\"\n",
            "_________________________________________________________________\n",
            " Layer (type)                Output Shape              Param #   \n",
            "=================================================================\n",
            " lstm_2 (LSTM)               (None, 200)               164800    \n",
            "                                                                 \n",
            " dense_2 (Dense)             (None, 1)                 201       \n",
            "                                                                 \n",
            "=================================================================\n",
            "Total params: 165,001\n",
            "Trainable params: 165,001\n",
            "Non-trainable params: 0\n",
            "_________________________________________________________________\n",
            "Epoch 1/15\n",
            "3840/3840 [==============================] - 57s 14ms/step - loss: 0.1745 - binary_accuracy: 0.5257 - custom_f1: 0.5008 - false_negatives_2: 22651.0000 - false_positives_2: 22877.0000 - val_loss: 0.1721 - val_binary_accuracy: 0.5464 - val_custom_f1: 0.3121 - val_false_negatives_2: 6478.0000 - val_false_positives_2: 4409.0000\n",
            "Epoch 2/15\n",
            "3840/3840 [==============================] - 53s 14ms/step - loss: 0.1728 - binary_accuracy: 0.5402 - custom_f1: 0.5142 - false_negatives_2: 22486.0000 - false_positives_2: 21657.0000 - val_loss: 0.1715 - val_binary_accuracy: 0.5586 - val_custom_f1: 0.2910 - val_false_negatives_2: 6989.0000 - val_false_positives_2: 3604.0000\n",
            "Epoch 3/15\n",
            "3840/3840 [==============================] - 58s 15ms/step - loss: 0.1705 - binary_accuracy: 0.5683 - custom_f1: 0.5370 - false_negatives_2: 22257.0000 - false_positives_2: 19184.0000 - val_loss: 0.1693 - val_binary_accuracy: 0.5880 - val_custom_f1: 0.3349 - val_false_negatives_2: 5874.0000 - val_false_positives_2: 4014.0000\n",
            "Epoch 4/15\n",
            "3840/3840 [==============================] - 54s 14ms/step - loss: 0.1678 - binary_accuracy: 0.5923 - custom_f1: 0.5632 - false_negatives_2: 21286.0000 - false_positives_2: 17853.0000 - val_loss: 0.1658 - val_binary_accuracy: 0.6047 - val_custom_f1: 0.3751 - val_false_negatives_2: 4729.0000 - val_false_positives_2: 4758.0000\n",
            "Epoch 5/15\n",
            "3840/3840 [==============================] - 58s 15ms/step - loss: 0.1633 - binary_accuracy: 0.6209 - custom_f1: 0.5945 - false_negatives_2: 19943.0000 - false_positives_2: 16451.0000 - val_loss: 0.1563 - val_binary_accuracy: 0.6540 - val_custom_f1: 0.3796 - val_false_negatives_2: 4596.0000 - val_false_positives_2: 3707.0000\n",
            "Epoch 6/15\n",
            "3840/3840 [==============================] - 54s 14ms/step - loss: 0.1541 - binary_accuracy: 0.6622 - custom_f1: 0.6342 - false_negatives_2: 18463.0000 - false_positives_2: 13969.0000 - val_loss: 0.1522 - val_binary_accuracy: 0.6653 - val_custom_f1: 0.4044 - val_false_negatives_2: 3793.0000 - val_false_positives_2: 4240.0000\n",
            "Epoch 7/15\n",
            "3840/3840 [==============================] - 58s 15ms/step - loss: 0.1486 - binary_accuracy: 0.6828 - custom_f1: 0.6566 - false_negatives_2: 17417.0000 - false_positives_2: 13034.0000 - val_loss: 0.1468 - val_binary_accuracy: 0.6882 - val_custom_f1: 0.3945 - val_false_negatives_2: 4117.0000 - val_false_positives_2: 3366.0000\n",
            "Epoch 8/15\n",
            "3840/3840 [==============================] - 54s 14ms/step - loss: 0.1433 - binary_accuracy: 0.7031 - custom_f1: 0.6781 - false_negatives_2: 16428.0000 - false_positives_2: 12079.0000 - val_loss: 0.1459 - val_binary_accuracy: 0.6957 - val_custom_f1: 0.3754 - val_false_negatives_2: 4729.0000 - val_false_positives_2: 2575.0000\n",
            "Epoch 9/15\n",
            "3840/3840 [==============================] - 58s 15ms/step - loss: 0.1375 - binary_accuracy: 0.7225 - custom_f1: 0.7011 - false_negatives_2: 15163.0000 - false_positives_2: 11480.0000 - val_loss: 0.1422 - val_binary_accuracy: 0.7108 - val_custom_f1: 0.4223 - val_false_negatives_2: 3180.0000 - val_false_positives_2: 3761.0000\n",
            "Epoch 10/15\n",
            "3840/3840 [==============================] - 54s 14ms/step - loss: 0.1318 - binary_accuracy: 0.7390 - custom_f1: 0.7216 - false_negatives_2: 14107.0000 - false_positives_2: 10952.0000 - val_loss: 0.1402 - val_binary_accuracy: 0.7160 - val_custom_f1: 0.3935 - val_false_negatives_2: 4155.0000 - val_false_positives_2: 2662.0000\n",
            "Epoch 11/15\n",
            "3840/3840 [==============================] - 54s 14ms/step - loss: 0.1252 - binary_accuracy: 0.7590 - custom_f1: 0.7428 - false_negatives_2: 13088.0000 - false_positives_2: 10045.0000 - val_loss: 0.1357 - val_binary_accuracy: 0.7332 - val_custom_f1: 0.4004 - val_false_negatives_2: 3936.0000 - val_false_positives_2: 2468.0000\n",
            "Epoch 12/15\n",
            "3840/3840 [==============================] - 54s 14ms/step - loss: 0.1192 - binary_accuracy: 0.7744 - custom_f1: 0.7601 - false_negatives_2: 12039.0000 - false_positives_2: 9620.0000 - val_loss: 0.1361 - val_binary_accuracy: 0.7330 - val_custom_f1: 0.3928 - val_false_negatives_2: 4178.0000 - val_false_positives_2: 2231.0000\n",
            "Epoch 13/15\n",
            "3840/3840 [==============================] - 54s 14ms/step - loss: 0.1124 - binary_accuracy: 0.7925 - custom_f1: 0.7796 - false_negatives_2: 11093.0000 - false_positives_2: 8824.0000 - val_loss: 0.1295 - val_binary_accuracy: 0.7529 - val_custom_f1: 0.4191 - val_false_negatives_2: 3289.0000 - val_false_positives_2: 2641.0000\n",
            "Epoch 14/15\n",
            "3840/3840 [==============================] - 54s 14ms/step - loss: 0.1065 - binary_accuracy: 0.8065 - custom_f1: 0.7958 - false_negatives_2: 10288.0000 - false_positives_2: 8285.0000 - val_loss: 0.1259 - val_binary_accuracy: 0.7613 - val_custom_f1: 0.4124 - val_false_negatives_2: 3523.0000 - val_false_positives_2: 2207.0000\n",
            "Epoch 15/15\n",
            "3840/3840 [==============================] - 54s 14ms/step - loss: 0.1009 - binary_accuracy: 0.8197 - custom_f1: 0.8100 - false_negatives_2: 9482.0000 - false_positives_2: 7827.0000 - val_loss: 0.1253 - val_binary_accuracy: 0.7732 - val_custom_f1: 0.4199 - val_false_negatives_2: 3264.0000 - val_false_positives_2: 2179.0000\n"
          ]
        },
        {
          "output_type": "stream",
          "name": "stderr",
          "text": [
            "WARNING:absl:Found untraced functions such as lstm_cell_2_layer_call_fn, lstm_cell_2_layer_call_and_return_conditional_losses while saving (showing 2 of 2). These functions will not be directly callable after loading.\n",
            "WARNING:absl:<keras.layers.recurrent.LSTMCell object at 0x7fb8ba00f390> has the same name 'LSTMCell' as a built-in Keras object. Consider renaming <class 'keras.layers.recurrent.LSTMCell'> to avoid naming conflicts when loading with `tf.keras.models.load_model`. If renaming is not possible, pass the object in the `custom_objects` parameter of the load function.\n"
          ]
        },
        {
          "output_type": "stream",
          "name": "stdout",
          "text": [
            "Padding: 0.3333333333333333\n",
            "\n",
            "\n",
            "Model: \"sequential_3\"\n",
            "_________________________________________________________________\n",
            " Layer (type)                Output Shape              Param #   \n",
            "=================================================================\n",
            " lstm_3 (LSTM)               (None, 200)               164800    \n",
            "                                                                 \n",
            " dense_3 (Dense)             (None, 1)                 201       \n",
            "                                                                 \n",
            "=================================================================\n",
            "Total params: 165,001\n",
            "Trainable params: 165,001\n",
            "Non-trainable params: 0\n",
            "_________________________________________________________________\n",
            "Epoch 1/15\n",
            "3840/3840 [==============================] - 56s 14ms/step - loss: 0.1744 - binary_accuracy: 0.5293 - custom_f1: 0.5054 - false_negatives_3: 22580.0000 - false_positives_3: 22605.0000 - val_loss: 0.1725 - val_binary_accuracy: 0.5453 - val_custom_f1: 0.3753 - val_false_negatives_3: 4721.0000 - val_false_positives_3: 6191.0000\n",
            "Epoch 2/15\n",
            "3840/3840 [==============================] - 53s 14ms/step - loss: 0.1724 - binary_accuracy: 0.5430 - custom_f1: 0.5157 - false_negatives_3: 22545.0000 - false_positives_3: 21325.0000 - val_loss: 0.1712 - val_binary_accuracy: 0.5538 - val_custom_f1: 0.3214 - val_false_negatives_3: 6229.0000 - val_false_positives_3: 4480.0000\n",
            "Epoch 3/15\n",
            "3840/3840 [==============================] - 53s 14ms/step - loss: 0.1699 - binary_accuracy: 0.5736 - custom_f1: 0.5481 - false_negatives_3: 21622.0000 - false_positives_3: 19314.0000 - val_loss: 0.1678 - val_binary_accuracy: 0.5940 - val_custom_f1: 0.3403 - val_false_negatives_3: 5726.0000 - val_false_positives_3: 4019.0000\n",
            "Epoch 4/15\n",
            "3840/3840 [==============================] - 53s 14ms/step - loss: 0.1652 - binary_accuracy: 0.6102 - custom_f1: 0.5805 - false_negatives_3: 20572.0000 - false_positives_3: 16848.0000 - val_loss: 0.1582 - val_binary_accuracy: 0.6448 - val_custom_f1: 0.3825 - val_false_negatives_3: 4493.0000 - val_false_positives_3: 4032.0000\n",
            "Epoch 5/15\n",
            "3840/3840 [==============================] - 57s 15ms/step - loss: 0.1544 - binary_accuracy: 0.6602 - custom_f1: 0.6305 - false_negatives_3: 18706.0000 - false_positives_3: 13914.0000 - val_loss: 0.1542 - val_binary_accuracy: 0.6577 - val_custom_f1: 0.4323 - val_false_negatives_3: 2815.0000 - val_false_positives_3: 5401.0000\n",
            "Epoch 6/15\n",
            "3840/3840 [==============================] - 53s 14ms/step - loss: 0.1485 - binary_accuracy: 0.6849 - custom_f1: 0.6577 - false_negatives_3: 17375.0000 - false_positives_3: 12873.0000 - val_loss: 0.1467 - val_binary_accuracy: 0.6928 - val_custom_f1: 0.3976 - val_false_negatives_3: 4016.0000 - val_false_positives_3: 3357.0000\n",
            "Epoch 7/15\n",
            "3840/3840 [==============================] - 58s 15ms/step - loss: 0.1425 - binary_accuracy: 0.7042 - custom_f1: 0.6818 - false_negatives_3: 16073.0000 - false_positives_3: 12324.0000 - val_loss: 0.1440 - val_binary_accuracy: 0.6988 - val_custom_f1: 0.4089 - val_false_negatives_3: 3642.0000 - val_false_positives_3: 3588.0000\n",
            "Epoch 8/15\n",
            "3840/3840 [==============================] - 58s 15ms/step - loss: 0.1362 - binary_accuracy: 0.7242 - custom_f1: 0.7042 - false_negatives_3: 14981.0000 - false_positives_3: 11495.0000 - val_loss: 0.1397 - val_binary_accuracy: 0.7178 - val_custom_f1: 0.4068 - val_false_negatives_3: 3716.0000 - val_false_positives_3: 3056.0000\n",
            "Epoch 9/15\n",
            "3840/3840 [==============================] - 53s 14ms/step - loss: 0.1287 - binary_accuracy: 0.7476 - custom_f1: 0.7311 - false_negatives_3: 13590.0000 - false_positives_3: 10636.0000 - val_loss: 0.1368 - val_binary_accuracy: 0.7280 - val_custom_f1: 0.4209 - val_false_negatives_3: 3224.0000 - val_false_positives_3: 3303.0000\n",
            "Epoch 10/15\n",
            "3840/3840 [==============================] - 53s 14ms/step - loss: 0.1213 - binary_accuracy: 0.7673 - custom_f1: 0.7537 - false_negatives_3: 12288.0000 - false_positives_3: 10056.0000 - val_loss: 0.1324 - val_binary_accuracy: 0.7403 - val_custom_f1: 0.4150 - val_false_negatives_3: 3434.0000 - val_false_positives_3: 2798.0000\n",
            "Epoch 11/15\n",
            "3840/3840 [==============================] - 53s 14ms/step - loss: 0.1151 - binary_accuracy: 0.7836 - custom_f1: 0.7710 - false_negatives_3: 11430.0000 - false_positives_3: 9342.0000 - val_loss: 0.1289 - val_binary_accuracy: 0.7523 - val_custom_f1: 0.4245 - val_false_negatives_3: 3096.0000 - val_false_positives_3: 2849.0000\n",
            "Epoch 12/15\n",
            "3840/3840 [==============================] - 53s 14ms/step - loss: 0.1092 - binary_accuracy: 0.7984 - custom_f1: 0.7878 - false_negatives_3: 10512.0000 - false_positives_3: 8837.0000 - val_loss: 0.1300 - val_binary_accuracy: 0.7534 - val_custom_f1: 0.4207 - val_false_negatives_3: 3226.0000 - val_false_positives_3: 2693.0000\n",
            "Epoch 13/15\n",
            "3840/3840 [==============================] - 53s 14ms/step - loss: 0.1031 - binary_accuracy: 0.8117 - custom_f1: 0.8020 - false_negatives_3: 9721.0000 - false_positives_3: 8357.0000 - val_loss: 0.1290 - val_binary_accuracy: 0.7615 - val_custom_f1: 0.4152 - val_false_negatives_3: 3421.0000 - val_false_positives_3: 2304.0000\n",
            "Epoch 14/15\n",
            "3840/3840 [==============================] - 53s 14ms/step - loss: 0.0983 - binary_accuracy: 0.8243 - custom_f1: 0.8152 - false_negatives_3: 9006.0000 - false_positives_3: 7860.0000 - val_loss: 0.1231 - val_binary_accuracy: 0.7774 - val_custom_f1: 0.4311 - val_false_negatives_3: 2858.0000 - val_false_positives_3: 2485.0000\n",
            "Epoch 15/15\n",
            "3840/3840 [==============================] - 53s 14ms/step - loss: 0.0933 - binary_accuracy: 0.8357 - custom_f1: 0.8274 - false_negatives_3: 8411.0000 - false_positives_3: 7366.0000 - val_loss: 0.1239 - val_binary_accuracy: 0.7782 - val_custom_f1: 0.4189 - val_false_negatives_3: 3290.0000 - val_false_positives_3: 2033.0000\n"
          ]
        },
        {
          "output_type": "stream",
          "name": "stderr",
          "text": [
            "WARNING:absl:Found untraced functions such as lstm_cell_3_layer_call_fn, lstm_cell_3_layer_call_and_return_conditional_losses while saving (showing 2 of 2). These functions will not be directly callable after loading.\n",
            "WARNING:absl:<keras.layers.recurrent.LSTMCell object at 0x7fb86c7cd990> has the same name 'LSTMCell' as a built-in Keras object. Consider renaming <class 'keras.layers.recurrent.LSTMCell'> to avoid naming conflicts when loading with `tf.keras.models.load_model`. If renaming is not possible, pass the object in the `custom_objects` parameter of the load function.\n"
          ]
        },
        {
          "output_type": "stream",
          "name": "stdout",
          "text": [
            "Padding: 0.25\n",
            "\n",
            "\n",
            "Model: \"sequential_4\"\n",
            "_________________________________________________________________\n",
            " Layer (type)                Output Shape              Param #   \n",
            "=================================================================\n",
            " lstm_4 (LSTM)               (None, 200)               164800    \n",
            "                                                                 \n",
            " dense_4 (Dense)             (None, 1)                 201       \n",
            "                                                                 \n",
            "=================================================================\n",
            "Total params: 165,001\n",
            "Trainable params: 165,001\n",
            "Non-trainable params: 0\n",
            "_________________________________________________________________\n",
            "Epoch 1/15\n",
            "3840/3840 [==============================] - 55s 14ms/step - loss: 0.1740 - binary_accuracy: 0.5297 - custom_f1: 0.5054 - false_negatives_4: 22921.0000 - false_positives_4: 22226.0000 - val_loss: 0.1717 - val_binary_accuracy: 0.5485 - val_custom_f1: 0.3260 - val_false_negatives_4: 6116.0000 - val_false_positives_4: 4719.0000\n",
            "Epoch 2/15\n",
            "3840/3840 [==============================] - 53s 14ms/step - loss: 0.1706 - binary_accuracy: 0.5651 - custom_f1: 0.5276 - false_negatives_4: 23147.0000 - false_positives_4: 18601.0000 - val_loss: 0.1692 - val_binary_accuracy: 0.5828 - val_custom_f1: 0.2896 - val_false_negatives_4: 7029.0000 - val_false_positives_4: 2984.0000\n",
            "Epoch 3/15\n",
            "3840/3840 [==============================] - 58s 15ms/step - loss: 0.1667 - binary_accuracy: 0.6005 - custom_f1: 0.5645 - false_negatives_4: 21769.0000 - false_positives_4: 16586.0000 - val_loss: 0.1599 - val_binary_accuracy: 0.6365 - val_custom_f1: 0.3916 - val_false_negatives_4: 4207.0000 - val_false_positives_4: 4517.0000\n",
            "Epoch 4/15\n",
            "3840/3840 [==============================] - 57s 15ms/step - loss: 0.1556 - binary_accuracy: 0.6523 - custom_f1: 0.6190 - false_negatives_4: 19449.0000 - false_positives_4: 13926.0000 - val_loss: 0.1540 - val_binary_accuracy: 0.6656 - val_custom_f1: 0.3698 - val_false_negatives_4: 4888.0000 - val_false_positives_4: 3137.0000\n",
            "Epoch 5/15\n",
            "3840/3840 [==============================] - 58s 15ms/step - loss: 0.1502 - binary_accuracy: 0.6761 - custom_f1: 0.6470 - false_negatives_4: 18083.0000 - false_positives_4: 13007.0000 - val_loss: 0.1505 - val_binary_accuracy: 0.6785 - val_custom_f1: 0.3790 - val_false_negatives_4: 4608.0000 - val_false_positives_4: 3109.0000\n",
            "Epoch 6/15\n",
            "3840/3840 [==============================] - 53s 14ms/step - loss: 0.1446 - binary_accuracy: 0.6980 - custom_f1: 0.6733 - false_negatives_4: 16528.0000 - false_positives_4: 12467.0000 - val_loss: 0.1470 - val_binary_accuracy: 0.6908 - val_custom_f1: 0.3632 - val_false_negatives_4: 5079.0000 - val_false_positives_4: 2343.0000\n",
            "Epoch 7/15\n",
            "3840/3840 [==============================] - 53s 14ms/step - loss: 0.1383 - binary_accuracy: 0.7189 - custom_f1: 0.6973 - false_negatives_4: 15331.0000 - false_positives_4: 11653.0000 - val_loss: 0.1408 - val_binary_accuracy: 0.7112 - val_custom_f1: 0.3923 - val_false_negatives_4: 4184.0000 - val_false_positives_4: 2748.0000\n",
            "Epoch 8/15\n",
            "3840/3840 [==============================] - 58s 15ms/step - loss: 0.1313 - binary_accuracy: 0.7428 - custom_f1: 0.7247 - false_negatives_4: 13951.0000 - false_positives_4: 10741.0000 - val_loss: 0.1382 - val_binary_accuracy: 0.7214 - val_custom_f1: 0.3975 - val_false_negatives_4: 4020.0000 - val_false_positives_4: 2666.0000\n",
            "Epoch 9/15\n",
            "3840/3840 [==============================] - 58s 15ms/step - loss: 0.1247 - binary_accuracy: 0.7616 - custom_f1: 0.7463 - false_negatives_4: 12787.0000 - false_positives_4: 10101.0000 - val_loss: 0.1361 - val_binary_accuracy: 0.7358 - val_custom_f1: 0.4152 - val_false_negatives_4: 3424.0000 - val_false_positives_4: 2917.0000\n",
            "Epoch 10/15\n",
            "3840/3840 [==============================] - 57s 15ms/step - loss: 0.1175 - binary_accuracy: 0.7812 - custom_f1: 0.7674 - false_negatives_4: 11668.0000 - false_positives_4: 9340.0000 - val_loss: 0.1311 - val_binary_accuracy: 0.7482 - val_custom_f1: 0.4320 - val_false_negatives_4: 2822.0000 - val_false_positives_4: 3221.0000\n",
            "Epoch 11/15\n",
            "3840/3840 [==============================] - 53s 14ms/step - loss: 0.1105 - binary_accuracy: 0.7984 - custom_f1: 0.7871 - false_negatives_4: 10610.0000 - false_positives_4: 8748.0000 - val_loss: 0.1283 - val_binary_accuracy: 0.7555 - val_custom_f1: 0.4288 - val_false_negatives_4: 2934.0000 - val_false_positives_4: 2933.0000\n",
            "Epoch 12/15\n",
            "3840/3840 [==============================] - 53s 14ms/step - loss: 0.1042 - binary_accuracy: 0.8129 - custom_f1: 0.8030 - false_negatives_4: 9908.0000 - false_positives_4: 8051.0000 - val_loss: 0.1273 - val_binary_accuracy: 0.7638 - val_custom_f1: 0.4405 - val_false_negatives_4: 2506.0000 - val_false_positives_4: 3164.0000\n",
            "Epoch 13/15\n",
            "3840/3840 [==============================] - 53s 14ms/step - loss: 0.0993 - binary_accuracy: 0.8241 - custom_f1: 0.8152 - false_negatives_4: 9191.0000 - false_positives_4: 7691.0000 - val_loss: 0.1250 - val_binary_accuracy: 0.7755 - val_custom_f1: 0.4319 - val_false_negatives_4: 2827.0000 - val_false_positives_4: 2561.0000\n",
            "Epoch 14/15\n",
            "3840/3840 [==============================] - 54s 14ms/step - loss: 0.0937 - binary_accuracy: 0.8367 - custom_f1: 0.8282 - false_negatives_4: 8511.0000 - false_positives_4: 7161.0000 - val_loss: 0.1280 - val_binary_accuracy: 0.7772 - val_custom_f1: 0.4217 - val_false_negatives_4: 3196.0000 - val_false_positives_4: 2150.0000\n",
            "Epoch 15/15\n",
            "3840/3840 [==============================] - 58s 15ms/step - loss: 0.0891 - binary_accuracy: 0.8481 - custom_f1: 0.8407 - false_negatives_4: 7901.0000 - false_positives_4: 6677.0000 - val_loss: 0.1242 - val_binary_accuracy: 0.7868 - val_custom_f1: 0.4420 - val_false_negatives_4: 2449.0000 - val_false_positives_4: 2667.0000\n"
          ]
        },
        {
          "output_type": "stream",
          "name": "stderr",
          "text": [
            "WARNING:absl:Found untraced functions such as lstm_cell_4_layer_call_fn, lstm_cell_4_layer_call_and_return_conditional_losses while saving (showing 2 of 2). These functions will not be directly callable after loading.\n",
            "WARNING:absl:<keras.layers.recurrent.LSTMCell object at 0x7fb86c4962d0> has the same name 'LSTMCell' as a built-in Keras object. Consider renaming <class 'keras.layers.recurrent.LSTMCell'> to avoid naming conflicts when loading with `tf.keras.models.load_model`. If renaming is not possible, pass the object in the `custom_objects` parameter of the load function.\n"
          ]
        },
        {
          "output_type": "stream",
          "name": "stdout",
          "text": [
            "Padding: 0.2\n",
            "\n",
            "\n",
            "Model: \"sequential_5\"\n",
            "_________________________________________________________________\n",
            " Layer (type)                Output Shape              Param #   \n",
            "=================================================================\n",
            " lstm_5 (LSTM)               (None, 200)               164800    \n",
            "                                                                 \n",
            " dense_5 (Dense)             (None, 1)                 201       \n",
            "                                                                 \n",
            "=================================================================\n",
            "Total params: 165,001\n",
            "Trainable params: 165,001\n",
            "Non-trainable params: 0\n",
            "_________________________________________________________________\n",
            "Epoch 1/15\n",
            "3840/3840 [==============================] - 56s 14ms/step - loss: 0.1742 - binary_accuracy: 0.5290 - custom_f1: 0.5041 - false_negatives_5: 22562.0000 - false_positives_5: 22655.0000 - val_loss: 0.1724 - val_binary_accuracy: 0.5403 - val_custom_f1: 0.3682 - val_false_negatives_5: 4926.0000 - val_false_positives_5: 6106.0000\n",
            "Epoch 2/15\n",
            "3840/3840 [==============================] - 53s 14ms/step - loss: 0.1712 - binary_accuracy: 0.5570 - custom_f1: 0.5248 - false_negatives_5: 22515.0000 - false_positives_5: 20015.0000 - val_loss: 0.1707 - val_binary_accuracy: 0.5655 - val_custom_f1: 0.2626 - val_false_negatives_5: 7648.0000 - val_false_positives_5: 2779.0000\n",
            "Epoch 3/15\n",
            "3840/3840 [==============================] - 58s 15ms/step - loss: 0.1683 - binary_accuracy: 0.5882 - custom_f1: 0.5564 - false_negatives_5: 21670.0000 - false_positives_5: 17866.0000 - val_loss: 0.1666 - val_binary_accuracy: 0.6033 - val_custom_f1: 0.3523 - val_false_negatives_5: 5404.0000 - val_false_positives_5: 4118.0000\n",
            "Epoch 4/15\n",
            "3840/3840 [==============================] - 54s 14ms/step - loss: 0.1641 - binary_accuracy: 0.6175 - custom_f1: 0.5910 - false_negatives_5: 20032.0000 - false_positives_5: 16684.0000 - val_loss: 0.1591 - val_binary_accuracy: 0.6419 - val_custom_f1: 0.3835 - val_false_negatives_5: 4463.0000 - val_false_positives_5: 4132.0000\n",
            "Epoch 5/15\n",
            "3840/3840 [==============================] - 53s 14ms/step - loss: 0.1541 - binary_accuracy: 0.6625 - custom_f1: 0.6333 - false_negatives_5: 18591.0000 - false_positives_5: 13812.0000 - val_loss: 0.1537 - val_binary_accuracy: 0.6650 - val_custom_f1: 0.3844 - val_false_negatives_5: 4441.0000 - val_false_positives_5: 3598.0000\n",
            "Epoch 6/15\n",
            "3840/3840 [==============================] - 58s 15ms/step - loss: 0.1485 - binary_accuracy: 0.6850 - custom_f1: 0.6584 - false_negatives_5: 17365.0000 - false_positives_5: 12877.0000 - val_loss: 0.1494 - val_binary_accuracy: 0.6841 - val_custom_f1: 0.4046 - val_false_negatives_5: 3784.0000 - val_false_positives_5: 3797.0000\n",
            "Epoch 7/15\n",
            "3840/3840 [==============================] - 53s 14ms/step - loss: 0.1429 - binary_accuracy: 0.7058 - custom_f1: 0.6832 - false_negatives_5: 16115.0000 - false_positives_5: 12126.0000 - val_loss: 0.1444 - val_binary_accuracy: 0.7021 - val_custom_f1: 0.4003 - val_false_negatives_5: 3923.0000 - val_false_positives_5: 3226.0000\n",
            "Epoch 8/15\n",
            "3840/3840 [==============================] - 54s 14ms/step - loss: 0.1369 - binary_accuracy: 0.7252 - custom_f1: 0.7053 - false_negatives_5: 14936.0000 - false_positives_5: 11444.0000 - val_loss: 0.1421 - val_binary_accuracy: 0.7117 - val_custom_f1: 0.4088 - val_false_negatives_5: 3643.0000 - val_false_positives_5: 3277.0000\n",
            "Epoch 9/15\n",
            "3840/3840 [==============================] - 53s 14ms/step - loss: 0.1303 - binary_accuracy: 0.7481 - custom_f1: 0.7314 - false_negatives_5: 13603.0000 - false_positives_5: 10575.0000 - val_loss: 0.1389 - val_binary_accuracy: 0.7225 - val_custom_f1: 0.4152 - val_false_negatives_5: 3422.0000 - val_false_positives_5: 3238.0000\n",
            "Epoch 10/15\n",
            "3840/3840 [==============================] - 53s 14ms/step - loss: 0.1233 - binary_accuracy: 0.7659 - custom_f1: 0.7505 - false_negatives_5: 12568.0000 - false_positives_5: 9907.0000 - val_loss: 0.1352 - val_binary_accuracy: 0.7411 - val_custom_f1: 0.4111 - val_false_negatives_5: 3567.0000 - val_false_positives_5: 2646.0000\n",
            "Epoch 11/15\n",
            "3840/3840 [==============================] - 53s 14ms/step - loss: 0.1165 - binary_accuracy: 0.7848 - custom_f1: 0.7714 - false_negatives_5: 11443.0000 - false_positives_5: 9217.0000 - val_loss: 0.1324 - val_binary_accuracy: 0.7470 - val_custom_f1: 0.3994 - val_false_negatives_5: 3954.0000 - val_false_positives_5: 2119.0000\n",
            "Epoch 12/15\n",
            "3840/3840 [==============================] - 58s 15ms/step - loss: 0.1104 - binary_accuracy: 0.8005 - custom_f1: 0.7885 - false_negatives_5: 10516.0000 - false_positives_5: 8639.0000 - val_loss: 0.1309 - val_binary_accuracy: 0.7575 - val_custom_f1: 0.4200 - val_false_negatives_5: 3255.0000 - val_false_positives_5: 2565.0000\n",
            "Epoch 13/15\n",
            "3840/3840 [==============================] - 58s 15ms/step - loss: 0.1043 - binary_accuracy: 0.8152 - custom_f1: 0.8060 - false_negatives_5: 9569.0000 - false_positives_5: 8176.0000 - val_loss: 0.1296 - val_binary_accuracy: 0.7676 - val_custom_f1: 0.4249 - val_false_negatives_5: 3081.0000 - val_false_positives_5: 2496.0000\n",
            "Epoch 14/15\n",
            "3840/3840 [==============================] - 54s 14ms/step - loss: 0.0989 - binary_accuracy: 0.8270 - custom_f1: 0.8185 - false_negatives_5: 8948.0000 - false_positives_5: 7661.0000 - val_loss: 0.1292 - val_binary_accuracy: 0.7711 - val_custom_f1: 0.4177 - val_false_negatives_5: 3335.0000 - val_false_positives_5: 2158.0000\n",
            "Epoch 15/15\n",
            "3840/3840 [==============================] - 58s 15ms/step - loss: 0.0937 - binary_accuracy: 0.8373 - custom_f1: 0.8297 - false_negatives_5: 8313.0000 - false_positives_5: 7303.0000 - val_loss: 0.1245 - val_binary_accuracy: 0.7849 - val_custom_f1: 0.4280 - val_false_negatives_5: 2974.0000 - val_false_positives_5: 2188.0000\n"
          ]
        },
        {
          "output_type": "stream",
          "name": "stderr",
          "text": [
            "WARNING:absl:Found untraced functions such as lstm_cell_5_layer_call_fn, lstm_cell_5_layer_call_and_return_conditional_losses while saving (showing 2 of 2). These functions will not be directly callable after loading.\n",
            "WARNING:absl:<keras.layers.recurrent.LSTMCell object at 0x7fb8b580f910> has the same name 'LSTMCell' as a built-in Keras object. Consider renaming <class 'keras.layers.recurrent.LSTMCell'> to avoid naming conflicts when loading with `tf.keras.models.load_model`. If renaming is not possible, pass the object in the `custom_objects` parameter of the load function.\n"
          ]
        },
        {
          "output_type": "stream",
          "name": "stdout",
          "text": [
            "Padding: 0.14285714285714285\n",
            "\n",
            "\n",
            "Model: \"sequential_6\"\n",
            "_________________________________________________________________\n",
            " Layer (type)                Output Shape              Param #   \n",
            "=================================================================\n",
            " lstm_6 (LSTM)               (None, 200)               164800    \n",
            "                                                                 \n",
            " dense_6 (Dense)             (None, 1)                 201       \n",
            "                                                                 \n",
            "=================================================================\n",
            "Total params: 165,001\n",
            "Trainable params: 165,001\n",
            "Non-trainable params: 0\n",
            "_________________________________________________________________\n",
            "Epoch 1/15\n",
            "3840/3840 [==============================] - 56s 14ms/step - loss: 0.1744 - binary_accuracy: 0.5270 - custom_f1: 0.5019 - false_negatives_6: 22875.0000 - false_positives_6: 22537.0000 - val_loss: 0.1729 - val_binary_accuracy: 0.5428 - val_custom_f1: 0.2147 - val_false_negatives_6: 8636.0000 - val_false_positives_6: 2338.0000\n",
            "Epoch 2/15\n",
            "3840/3840 [==============================] - 53s 14ms/step - loss: 0.1721 - binary_accuracy: 0.5456 - custom_f1: 0.5115 - false_negatives_6: 23209.0000 - false_positives_6: 20416.0000 - val_loss: 0.1718 - val_binary_accuracy: 0.5433 - val_custom_f1: 0.3202 - val_false_negatives_6: 6276.0000 - val_false_positives_6: 4685.0000\n",
            "Epoch 3/15\n",
            "3840/3840 [==============================] - 53s 14ms/step - loss: 0.1708 - binary_accuracy: 0.5633 - custom_f1: 0.5356 - false_negatives_6: 22222.0000 - false_positives_6: 19705.0000 - val_loss: 0.1690 - val_binary_accuracy: 0.5841 - val_custom_f1: 0.3419 - val_false_negatives_6: 5679.0000 - val_false_positives_6: 4302.0000\n",
            "Epoch 4/15\n",
            "3840/3840 [==============================] - 53s 14ms/step - loss: 0.1678 - binary_accuracy: 0.5927 - custom_f1: 0.5682 - false_negatives_6: 20849.0000 - false_positives_6: 18252.0000 - val_loss: 0.1657 - val_binary_accuracy: 0.6072 - val_custom_f1: 0.3678 - val_false_negatives_6: 4941.0000 - val_false_positives_6: 4486.0000\n",
            "Epoch 5/15\n",
            "3840/3840 [==============================] - 53s 14ms/step - loss: 0.1646 - binary_accuracy: 0.6148 - custom_f1: 0.5900 - false_negatives_6: 19917.0000 - false_positives_6: 17060.0000 - val_loss: 0.1655 - val_binary_accuracy: 0.6154 - val_custom_f1: 0.2973 - val_false_negatives_6: 6844.0000 - val_false_positives_6: 2387.0000\n",
            "Epoch 6/15\n",
            "3840/3840 [==============================] - 54s 14ms/step - loss: 0.1566 - binary_accuracy: 0.6535 - custom_f1: 0.6278 - false_negatives_6: 18465.0000 - false_positives_6: 14803.0000 - val_loss: 0.1523 - val_binary_accuracy: 0.6730 - val_custom_f1: 0.3906 - val_false_negatives_6: 4243.0000 - val_false_positives_6: 3604.0000\n",
            "Epoch 7/15\n",
            "3840/3840 [==============================] - 55s 14ms/step - loss: 0.1493 - binary_accuracy: 0.6818 - custom_f1: 0.6555 - false_negatives_6: 17487.0000 - false_positives_6: 13057.0000 - val_loss: 0.1505 - val_binary_accuracy: 0.6779 - val_custom_f1: 0.3706 - val_false_negatives_6: 4857.0000 - val_false_positives_6: 2874.0000\n",
            "Epoch 8/15\n",
            "3840/3840 [==============================] - 53s 14ms/step - loss: 0.1438 - binary_accuracy: 0.7017 - custom_f1: 0.6789 - false_negatives_6: 16290.0000 - false_positives_6: 12349.0000 - val_loss: 0.1448 - val_binary_accuracy: 0.6980 - val_custom_f1: 0.4126 - val_false_negatives_6: 3511.0000 - val_false_positives_6: 3738.0000\n",
            "Epoch 9/15\n",
            "3840/3840 [==============================] - 53s 14ms/step - loss: 0.1380 - binary_accuracy: 0.7200 - custom_f1: 0.7005 - false_negatives_6: 15002.0000 - false_positives_6: 11879.0000 - val_loss: 0.1410 - val_binary_accuracy: 0.7098 - val_custom_f1: 0.3858 - val_false_negatives_6: 4393.0000 - val_false_positives_6: 2572.0000\n",
            "Epoch 10/15\n",
            "3840/3840 [==============================] - 53s 14ms/step - loss: 0.1322 - binary_accuracy: 0.7383 - custom_f1: 0.7201 - false_negatives_6: 14153.0000 - false_positives_6: 10968.0000 - val_loss: 0.1390 - val_binary_accuracy: 0.7212 - val_custom_f1: 0.4167 - val_false_negatives_6: 3371.0000 - val_false_positives_6: 3319.0000\n",
            "Epoch 11/15\n",
            "3840/3840 [==============================] - 58s 15ms/step - loss: 0.1264 - binary_accuracy: 0.7545 - custom_f1: 0.7378 - false_negatives_6: 13275.0000 - false_positives_6: 10297.0000 - val_loss: 0.1342 - val_binary_accuracy: 0.7370 - val_custom_f1: 0.4135 - val_false_negatives_6: 3480.0000 - val_false_positives_6: 2832.0000\n",
            "Epoch 12/15\n",
            "3840/3840 [==============================] - 58s 15ms/step - loss: 0.1198 - binary_accuracy: 0.7736 - custom_f1: 0.7606 - false_negatives_6: 12057.0000 - false_positives_6: 9676.0000 - val_loss: 0.1315 - val_binary_accuracy: 0.7441 - val_custom_f1: 0.4116 - val_false_negatives_6: 3546.0000 - val_false_positives_6: 2596.0000\n",
            "Epoch 13/15\n",
            "3840/3840 [==============================] - 57s 15ms/step - loss: 0.1132 - binary_accuracy: 0.7898 - custom_f1: 0.7775 - false_negatives_6: 11177.0000 - false_positives_6: 9000.0000 - val_loss: 0.1301 - val_binary_accuracy: 0.7508 - val_custom_f1: 0.4190 - val_false_negatives_6: 3291.0000 - val_false_positives_6: 2691.0000\n",
            "Epoch 14/15\n",
            "3840/3840 [==============================] - 52s 14ms/step - loss: 0.1099 - binary_accuracy: 0.7983 - custom_f1: 0.7867 - false_negatives_6: 10761.0000 - false_positives_6: 8598.0000 - val_loss: 0.1308 - val_binary_accuracy: 0.7536 - val_custom_f1: 0.4230 - val_false_negatives_6: 3149.0000 - val_false_positives_6: 2764.0000\n",
            "Epoch 15/15\n",
            "3840/3840 [==============================] - 53s 14ms/step - loss: 0.1036 - binary_accuracy: 0.8120 - custom_f1: 0.8016 - false_negatives_6: 9826.0000 - false_positives_6: 8219.0000 - val_loss: 0.1304 - val_binary_accuracy: 0.7565 - val_custom_f1: 0.3982 - val_false_negatives_6: 3999.0000 - val_false_positives_6: 1844.0000\n"
          ]
        },
        {
          "output_type": "stream",
          "name": "stderr",
          "text": [
            "WARNING:absl:Found untraced functions such as lstm_cell_6_layer_call_fn, lstm_cell_6_layer_call_and_return_conditional_losses while saving (showing 2 of 2). These functions will not be directly callable after loading.\n",
            "WARNING:absl:<keras.layers.recurrent.LSTMCell object at 0x7fb8a6300990> has the same name 'LSTMCell' as a built-in Keras object. Consider renaming <class 'keras.layers.recurrent.LSTMCell'> to avoid naming conflicts when loading with `tf.keras.models.load_model`. If renaming is not possible, pass the object in the `custom_objects` parameter of the load function.\n"
          ]
        },
        {
          "output_type": "stream",
          "name": "stdout",
          "text": [
            "Padding: 0.1\n",
            "\n",
            "\n",
            "Model: \"sequential_7\"\n",
            "_________________________________________________________________\n",
            " Layer (type)                Output Shape              Param #   \n",
            "=================================================================\n",
            " lstm_7 (LSTM)               (None, 200)               164800    \n",
            "                                                                 \n",
            " dense_7 (Dense)             (None, 1)                 201       \n",
            "                                                                 \n",
            "=================================================================\n",
            "Total params: 165,001\n",
            "Trainable params: 165,001\n",
            "Non-trainable params: 0\n",
            "_________________________________________________________________\n",
            "Epoch 1/15\n",
            "3840/3840 [==============================] - 56s 14ms/step - loss: 0.1743 - binary_accuracy: 0.5306 - custom_f1: 0.5029 - false_negatives_7: 22765.0000 - false_positives_7: 22293.0000 - val_loss: 0.1712 - val_binary_accuracy: 0.5554 - val_custom_f1: 0.2684 - val_false_negatives_7: 7517.0000 - val_false_positives_7: 3153.0000\n",
            "Epoch 2/15\n",
            "3840/3840 [==============================] - 52s 14ms/step - loss: 0.1731 - binary_accuracy: 0.5375 - custom_f1: 0.5050 - false_negatives_7: 22814.0000 - false_positives_7: 21584.0000 - val_loss: 0.1716 - val_binary_accuracy: 0.5538 - val_custom_f1: 0.3626 - val_false_negatives_7: 5091.0000 - val_false_positives_7: 5617.0000\n",
            "Epoch 3/15\n",
            "3840/3840 [==============================] - 57s 15ms/step - loss: 0.1710 - binary_accuracy: 0.5602 - custom_f1: 0.5264 - false_negatives_7: 22836.0000 - false_positives_7: 19386.0000 - val_loss: 0.1700 - val_binary_accuracy: 0.5713 - val_custom_f1: 0.3015 - val_false_negatives_7: 6726.0000 - val_false_positives_7: 3564.0000\n",
            "Epoch 4/15\n",
            "3840/3840 [==============================] - 58s 15ms/step - loss: 0.1684 - binary_accuracy: 0.5898 - custom_f1: 0.5567 - false_negatives_7: 21753.0000 - false_positives_7: 17628.0000 - val_loss: 0.1666 - val_binary_accuracy: 0.6011 - val_custom_f1: 0.3571 - val_false_negatives_7: 5255.0000 - val_false_positives_7: 4318.0000\n",
            "Epoch 5/15\n",
            "3840/3840 [==============================] - 53s 14ms/step - loss: 0.1627 - binary_accuracy: 0.6249 - custom_f1: 0.5963 - false_negatives_7: 19865.0000 - false_positives_7: 16148.0000 - val_loss: 0.1567 - val_binary_accuracy: 0.6543 - val_custom_f1: 0.3577 - val_false_negatives_7: 5241.0000 - val_false_positives_7: 3057.0000\n",
            "Epoch 6/15\n",
            "3840/3840 [==============================] - 53s 14ms/step - loss: 0.1535 - binary_accuracy: 0.6645 - custom_f1: 0.6363 - false_negatives_7: 18416.0000 - false_positives_7: 13793.0000 - val_loss: 0.1528 - val_binary_accuracy: 0.6668 - val_custom_f1: 0.4176 - val_false_negatives_7: 3339.0000 - val_false_positives_7: 4657.0000\n",
            "Epoch 7/15\n",
            "3840/3840 [==============================] - 53s 14ms/step - loss: 0.1478 - binary_accuracy: 0.6886 - custom_f1: 0.6615 - false_negatives_7: 17281.0000 - false_positives_7: 12615.0000 - val_loss: 0.1478 - val_binary_accuracy: 0.6850 - val_custom_f1: 0.3572 - val_false_negatives_7: 5255.0000 - val_false_positives_7: 2306.0000\n",
            "Epoch 8/15\n",
            "3840/3840 [==============================] - 58s 15ms/step - loss: 0.1419 - binary_accuracy: 0.7088 - custom_f1: 0.6854 - false_negatives_7: 16022.0000 - false_positives_7: 11929.0000 - val_loss: 0.1448 - val_binary_accuracy: 0.7004 - val_custom_f1: 0.4199 - val_false_negatives_7: 3260.0000 - val_false_positives_7: 3930.0000\n",
            "Epoch 9/15\n",
            "3840/3840 [==============================] - 58s 15ms/step - loss: 0.1356 - binary_accuracy: 0.7296 - custom_f1: 0.7091 - false_negatives_7: 14831.0000 - false_positives_7: 11123.0000 - val_loss: 0.1398 - val_binary_accuracy: 0.7161 - val_custom_f1: 0.4262 - val_false_negatives_7: 3035.0000 - val_false_positives_7: 3778.0000\n",
            "Epoch 10/15\n",
            "3840/3840 [==============================] - 53s 14ms/step - loss: 0.1285 - binary_accuracy: 0.7514 - custom_f1: 0.7343 - false_negatives_7: 13404.0000 - false_positives_7: 10465.0000 - val_loss: 0.1373 - val_binary_accuracy: 0.7255 - val_custom_f1: 0.3838 - val_false_negatives_7: 4461.0000 - val_false_positives_7: 2126.0000\n",
            "Epoch 11/15\n",
            "3840/3840 [==============================] - 53s 14ms/step - loss: 0.1225 - binary_accuracy: 0.7675 - custom_f1: 0.7526 - false_negatives_7: 12496.0000 - false_positives_7: 9824.0000 - val_loss: 0.1360 - val_binary_accuracy: 0.7368 - val_custom_f1: 0.3858 - val_false_negatives_7: 4401.0000 - val_false_positives_7: 1916.0000\n",
            "Epoch 12/15\n",
            "3840/3840 [==============================] - 53s 14ms/step - loss: 0.1163 - binary_accuracy: 0.7845 - custom_f1: 0.7722 - false_negatives_7: 11389.0000 - false_positives_7: 9301.0000 - val_loss: 0.1309 - val_binary_accuracy: 0.7500 - val_custom_f1: 0.4059 - val_false_negatives_7: 3742.0000 - val_false_positives_7: 2257.0000\n",
            "Epoch 13/15\n",
            "3840/3840 [==============================] - 53s 14ms/step - loss: 0.1104 - binary_accuracy: 0.7988 - custom_f1: 0.7871 - false_negatives_7: 10709.0000 - false_positives_7: 8608.0000 - val_loss: 0.1298 - val_binary_accuracy: 0.7545 - val_custom_f1: 0.4272 - val_false_negatives_7: 3001.0000 - val_false_positives_7: 2890.0000\n",
            "Epoch 14/15\n",
            "3840/3840 [==============================] - 53s 14ms/step - loss: 0.1048 - binary_accuracy: 0.8128 - custom_f1: 0.8031 - false_negatives_7: 9746.0000 - false_positives_7: 8221.0000 - val_loss: 0.1286 - val_binary_accuracy: 0.7628 - val_custom_f1: 0.4265 - val_false_negatives_7: 3024.0000 - val_false_positives_7: 2669.0000\n",
            "Epoch 15/15\n",
            "3840/3840 [==============================] - 58s 15ms/step - loss: 0.1016 - binary_accuracy: 0.8198 - custom_f1: 0.8108 - false_negatives_7: 9350.0000 - false_positives_7: 7947.0000 - val_loss: 0.1247 - val_binary_accuracy: 0.7752 - val_custom_f1: 0.4323 - val_false_negatives_7: 2811.0000 - val_false_positives_7: 2584.0000\n"
          ]
        },
        {
          "output_type": "stream",
          "name": "stderr",
          "text": [
            "WARNING:absl:Found untraced functions such as lstm_cell_7_layer_call_fn, lstm_cell_7_layer_call_and_return_conditional_losses while saving (showing 2 of 2). These functions will not be directly callable after loading.\n",
            "WARNING:absl:<keras.layers.recurrent.LSTMCell object at 0x7fb86c0fb450> has the same name 'LSTMCell' as a built-in Keras object. Consider renaming <class 'keras.layers.recurrent.LSTMCell'> to avoid naming conflicts when loading with `tf.keras.models.load_model`. If renaming is not possible, pass the object in the `custom_objects` parameter of the load function.\n"
          ]
        },
        {
          "output_type": "stream",
          "name": "stdout",
          "text": [
            "Padding: 0.07142857142857142\n",
            "\n",
            "\n",
            "Model: \"sequential_8\"\n",
            "_________________________________________________________________\n",
            " Layer (type)                Output Shape              Param #   \n",
            "=================================================================\n",
            " lstm_8 (LSTM)               (None, 200)               164800    \n",
            "                                                                 \n",
            " dense_8 (Dense)             (None, 1)                 201       \n",
            "                                                                 \n",
            "=================================================================\n",
            "Total params: 165,001\n",
            "Trainable params: 165,001\n",
            "Non-trainable params: 0\n",
            "_________________________________________________________________\n",
            "Epoch 1/15\n",
            "3840/3840 [==============================] - 56s 14ms/step - loss: 0.1744 - binary_accuracy: 0.5272 - custom_f1: 0.5015 - false_negatives_8: 23029.0000 - false_positives_8: 22363.0000 - val_loss: 0.1725 - val_binary_accuracy: 0.5387 - val_custom_f1: 0.3866 - val_false_negatives_8: 4365.0000 - val_false_positives_8: 6706.0000\n",
            "Epoch 2/15\n",
            "3840/3840 [==============================] - 53s 14ms/step - loss: 0.1713 - binary_accuracy: 0.5570 - custom_f1: 0.5219 - false_negatives_8: 23078.0000 - false_positives_8: 19446.0000 - val_loss: 0.1704 - val_binary_accuracy: 0.5667 - val_custom_f1: 0.4106 - val_false_negatives_8: 3582.0000 - val_false_positives_8: 6817.0000\n",
            "Epoch 3/15\n",
            "3840/3840 [==============================] - 53s 14ms/step - loss: 0.1683 - binary_accuracy: 0.5888 - custom_f1: 0.5540 - false_negatives_8: 21897.0000 - false_positives_8: 17577.0000 - val_loss: 0.1644 - val_binary_accuracy: 0.6143 - val_custom_f1: 0.3642 - val_false_negatives_8: 5050.0000 - val_false_positives_8: 4206.0000\n",
            "Epoch 4/15\n",
            "3840/3840 [==============================] - 53s 14ms/step - loss: 0.1579 - binary_accuracy: 0.6468 - custom_f1: 0.6103 - false_negatives_8: 19947.0000 - false_positives_8: 13960.0000 - val_loss: 0.1551 - val_binary_accuracy: 0.6594 - val_custom_f1: 0.3629 - val_false_negatives_8: 5091.0000 - val_false_positives_8: 3084.0000\n",
            "Epoch 5/15\n",
            "3840/3840 [==============================] - 58s 15ms/step - loss: 0.1515 - binary_accuracy: 0.6743 - custom_f1: 0.6432 - false_negatives_8: 18387.0000 - false_positives_8: 12882.0000 - val_loss: 0.1525 - val_binary_accuracy: 0.6658 - val_custom_f1: 0.3979 - val_false_negatives_8: 4013.0000 - val_false_positives_8: 4009.0000\n",
            "Epoch 6/15\n",
            "3840/3840 [==============================] - 58s 15ms/step - loss: 0.1466 - binary_accuracy: 0.6920 - custom_f1: 0.6615 - false_negatives_8: 17619.0000 - false_positives_8: 11951.0000 - val_loss: 0.1499 - val_binary_accuracy: 0.6803 - val_custom_f1: 0.4174 - val_false_negatives_8: 3346.0000 - val_false_positives_8: 4327.0000\n",
            "Epoch 7/15\n",
            "3840/3840 [==============================] - 58s 15ms/step - loss: 0.1413 - binary_accuracy: 0.7120 - custom_f1: 0.6870 - false_negatives_8: 16137.0000 - false_positives_8: 11510.0000 - val_loss: 0.1448 - val_binary_accuracy: 0.6975 - val_custom_f1: 0.3907 - val_false_negatives_8: 4240.0000 - val_false_positives_8: 3019.0000\n",
            "Epoch 8/15\n",
            "3840/3840 [==============================] - 58s 15ms/step - loss: 0.1354 - binary_accuracy: 0.7318 - custom_f1: 0.7102 - false_negatives_8: 14968.0000 - false_positives_8: 10777.0000 - val_loss: 0.1423 - val_binary_accuracy: 0.7112 - val_custom_f1: 0.3717 - val_false_negatives_8: 4830.0000 - val_false_positives_8: 2101.0000\n",
            "Epoch 9/15\n",
            "3840/3840 [==============================] - 53s 14ms/step - loss: 0.1285 - binary_accuracy: 0.7529 - custom_f1: 0.7345 - false_negatives_8: 13666.0000 - false_positives_8: 10051.0000 - val_loss: 0.1407 - val_binary_accuracy: 0.7206 - val_custom_f1: 0.3783 - val_false_negatives_8: 4632.0000 - val_false_positives_8: 2074.0000\n",
            "Epoch 10/15\n",
            "3840/3840 [==============================] - 53s 14ms/step - loss: 0.1224 - binary_accuracy: 0.7684 - custom_f1: 0.7525 - false_negatives_8: 12729.0000 - false_positives_8: 9509.0000 - val_loss: 0.1345 - val_binary_accuracy: 0.7390 - val_custom_f1: 0.4160 - val_false_negatives_8: 3400.0000 - val_false_positives_8: 2863.0000\n",
            "Epoch 11/15\n",
            "3840/3840 [==============================] - 53s 14ms/step - loss: 0.1163 - binary_accuracy: 0.7855 - custom_f1: 0.7716 - false_negatives_8: 11595.0000 - false_positives_8: 8998.0000 - val_loss: 0.1331 - val_binary_accuracy: 0.7483 - val_custom_f1: 0.4319 - val_false_negatives_8: 2830.0000 - val_false_positives_8: 3211.0000\n",
            "Epoch 12/15\n",
            "3840/3840 [==============================] - 58s 15ms/step - loss: 0.1095 - binary_accuracy: 0.8032 - custom_f1: 0.7913 - false_negatives_8: 10579.0000 - false_positives_8: 8315.0000 - val_loss: 0.1290 - val_binary_accuracy: 0.7611 - val_custom_f1: 0.4080 - val_false_negatives_8: 3675.0000 - val_false_positives_8: 2059.0000\n",
            "Epoch 13/15\n",
            "3840/3840 [==============================] - 53s 14ms/step - loss: 0.1039 - binary_accuracy: 0.8155 - custom_f1: 0.8043 - false_negatives_8: 9835.0000 - false_positives_8: 7880.0000 - val_loss: 0.1289 - val_binary_accuracy: 0.7667 - val_custom_f1: 0.4340 - val_false_negatives_8: 2753.0000 - val_false_positives_8: 2846.0000\n",
            "Epoch 14/15\n",
            "3840/3840 [==============================] - 52s 14ms/step - loss: 0.0987 - binary_accuracy: 0.8275 - custom_f1: 0.8181 - false_negatives_8: 9135.0000 - false_positives_8: 7426.0000 - val_loss: 0.1267 - val_binary_accuracy: 0.7754 - val_custom_f1: 0.4292 - val_false_negatives_8: 2930.0000 - val_false_positives_8: 2461.0000\n",
            "Epoch 15/15\n",
            "3840/3840 [==============================] - 53s 14ms/step - loss: 0.0935 - binary_accuracy: 0.8389 - custom_f1: 0.8300 - false_negatives_8: 8513.0000 - false_positives_8: 6956.0000 - val_loss: 0.1278 - val_binary_accuracy: 0.7703 - val_custom_f1: 0.4320 - val_false_negatives_8: 2827.0000 - val_false_positives_8: 2687.0000\n"
          ]
        },
        {
          "output_type": "stream",
          "name": "stderr",
          "text": [
            "WARNING:absl:Found untraced functions such as lstm_cell_8_layer_call_fn, lstm_cell_8_layer_call_and_return_conditional_losses while saving (showing 2 of 2). These functions will not be directly callable after loading.\n",
            "WARNING:absl:<keras.layers.recurrent.LSTMCell object at 0x7fb8b5fde190> has the same name 'LSTMCell' as a built-in Keras object. Consider renaming <class 'keras.layers.recurrent.LSTMCell'> to avoid naming conflicts when loading with `tf.keras.models.load_model`. If renaming is not possible, pass the object in the `custom_objects` parameter of the load function.\n"
          ]
        },
        {
          "output_type": "stream",
          "name": "stdout",
          "text": [
            "Padding: 0.05\n",
            "\n",
            "\n",
            "Model: \"sequential_9\"\n",
            "_________________________________________________________________\n",
            " Layer (type)                Output Shape              Param #   \n",
            "=================================================================\n",
            " lstm_9 (LSTM)               (None, 200)               164800    \n",
            "                                                                 \n",
            " dense_9 (Dense)             (None, 1)                 201       \n",
            "                                                                 \n",
            "=================================================================\n",
            "Total params: 165,001\n",
            "Trainable params: 165,001\n",
            "Non-trainable params: 0\n",
            "_________________________________________________________________\n",
            "Epoch 1/15\n",
            "3840/3840 [==============================] - 55s 14ms/step - loss: 0.1743 - binary_accuracy: 0.5286 - custom_f1: 0.5015 - false_negatives_9: 22841.0000 - false_positives_9: 22414.0000 - val_loss: 0.1724 - val_binary_accuracy: 0.5365 - val_custom_f1: 0.3477 - val_false_negatives_9: 5519.0000 - val_false_positives_9: 5604.0000\n",
            "Epoch 2/15\n",
            "3840/3840 [==============================] - 53s 14ms/step - loss: 0.1721 - binary_accuracy: 0.5449 - custom_f1: 0.5211 - false_negatives_9: 22354.0000 - false_positives_9: 21335.0000 - val_loss: 0.1706 - val_binary_accuracy: 0.5645 - val_custom_f1: 0.3951 - val_false_negatives_9: 4093.0000 - val_false_positives_9: 6358.0000\n",
            "Epoch 3/15\n",
            "3840/3840 [==============================] - 57s 15ms/step - loss: 0.1696 - binary_accuracy: 0.5777 - custom_f1: 0.5469 - false_negatives_9: 21700.0000 - false_positives_9: 18843.0000 - val_loss: 0.1674 - val_binary_accuracy: 0.5953 - val_custom_f1: 0.3861 - val_false_negatives_9: 4379.0000 - val_false_positives_9: 5335.0000\n",
            "Epoch 4/15\n",
            "3840/3840 [==============================] - 57s 15ms/step - loss: 0.1615 - binary_accuracy: 0.6285 - custom_f1: 0.5969 - false_negatives_9: 20125.0000 - false_positives_9: 15538.0000 - val_loss: 0.1555 - val_binary_accuracy: 0.6546 - val_custom_f1: 0.3700 - val_false_negatives_9: 4880.0000 - val_false_positives_9: 3410.0000\n",
            "Epoch 5/15\n",
            "3840/3840 [==============================] - 57s 15ms/step - loss: 0.1525 - binary_accuracy: 0.6705 - custom_f1: 0.6396 - false_negatives_9: 18514.0000 - false_positives_9: 13122.0000 - val_loss: 0.1506 - val_binary_accuracy: 0.6766 - val_custom_f1: 0.3832 - val_false_negatives_9: 4476.0000 - val_false_positives_9: 3286.0000\n",
            "Epoch 6/15\n",
            "3840/3840 [==============================] - 58s 15ms/step - loss: 0.1478 - binary_accuracy: 0.6880 - custom_f1: 0.6599 - false_negatives_9: 17462.0000 - false_positives_9: 12494.0000 - val_loss: 0.1470 - val_binary_accuracy: 0.6902 - val_custom_f1: 0.4013 - val_false_negatives_9: 3896.0000 - val_false_positives_9: 3538.0000\n",
            "Epoch 7/15\n",
            "3840/3840 [==============================] - 54s 14ms/step - loss: 0.1427 - binary_accuracy: 0.7079 - custom_f1: 0.6835 - false_negatives_9: 16239.0000 - false_positives_9: 11806.0000 - val_loss: 0.1457 - val_binary_accuracy: 0.6959 - val_custom_f1: 0.3691 - val_false_negatives_9: 4910.0000 - val_false_positives_9: 2388.0000\n",
            "Epoch 8/15\n",
            "3840/3840 [==============================] - 58s 15ms/step - loss: 0.1368 - binary_accuracy: 0.7270 - custom_f1: 0.7059 - false_negatives_9: 15064.0000 - false_positives_9: 11144.0000 - val_loss: 0.1406 - val_binary_accuracy: 0.7165 - val_custom_f1: 0.3898 - val_false_negatives_9: 4268.0000 - val_false_positives_9: 2536.0000\n",
            "Epoch 9/15\n",
            "3840/3840 [==============================] - 53s 14ms/step - loss: 0.1303 - binary_accuracy: 0.7476 - custom_f1: 0.7285 - false_negatives_9: 13925.0000 - false_positives_9: 10303.0000 - val_loss: 0.1427 - val_binary_accuracy: 0.7179 - val_custom_f1: 0.4390 - val_false_negatives_9: 2569.0000 - val_false_positives_9: 4201.0000\n",
            "Epoch 10/15\n",
            "3840/3840 [==============================] - 53s 14ms/step - loss: 0.1235 - binary_accuracy: 0.7672 - custom_f1: 0.7516 - false_negatives_9: 12653.0000 - false_positives_9: 9692.0000 - val_loss: 0.1357 - val_binary_accuracy: 0.7425 - val_custom_f1: 0.4087 - val_false_negatives_9: 3646.0000 - val_false_positives_9: 2533.0000\n",
            "Epoch 11/15\n",
            "3840/3840 [==============================] - 53s 14ms/step - loss: 0.1165 - binary_accuracy: 0.7838 - custom_f1: 0.7697 - false_negatives_9: 11611.0000 - false_positives_9: 9141.0000 - val_loss: 0.1315 - val_binary_accuracy: 0.7506 - val_custom_f1: 0.4072 - val_false_negatives_9: 3690.0000 - val_false_positives_9: 2295.0000\n",
            "Epoch 12/15\n",
            "3840/3840 [==============================] - 53s 14ms/step - loss: 0.1105 - binary_accuracy: 0.7992 - custom_f1: 0.7868 - false_negatives_9: 10771.0000 - false_positives_9: 8510.0000 - val_loss: 0.1291 - val_binary_accuracy: 0.7608 - val_custom_f1: 0.4279 - val_false_negatives_9: 2973.0000 - val_false_positives_9: 2768.0000\n",
            "Epoch 13/15\n",
            "3840/3840 [==============================] - 53s 14ms/step - loss: 0.1045 - binary_accuracy: 0.8141 - custom_f1: 0.8039 - false_negatives_9: 9799.0000 - false_positives_9: 8052.0000 - val_loss: 0.1301 - val_binary_accuracy: 0.7688 - val_custom_f1: 0.4220 - val_false_negatives_9: 3184.0000 - val_false_positives_9: 2365.0000\n",
            "Epoch 14/15\n",
            "3840/3840 [==============================] - 53s 14ms/step - loss: 0.0995 - binary_accuracy: 0.8260 - custom_f1: 0.8166 - false_negatives_9: 9124.0000 - false_positives_9: 7580.0000 - val_loss: 0.1266 - val_binary_accuracy: 0.7740 - val_custom_f1: 0.4184 - val_false_negatives_9: 3311.0000 - val_false_positives_9: 2113.0000\n",
            "Epoch 15/15\n",
            "3840/3840 [==============================] - 58s 15ms/step - loss: 0.0959 - binary_accuracy: 0.8334 - custom_f1: 0.8247 - false_negatives_9: 8745.0000 - false_positives_9: 7250.0000 - val_loss: 0.1271 - val_binary_accuracy: 0.7752 - val_custom_f1: 0.4305 - val_false_negatives_9: 2880.0000 - val_false_positives_9: 2515.0000\n"
          ]
        },
        {
          "output_type": "stream",
          "name": "stderr",
          "text": [
            "WARNING:absl:Found untraced functions such as lstm_cell_9_layer_call_fn, lstm_cell_9_layer_call_and_return_conditional_losses while saving (showing 2 of 2). These functions will not be directly callable after loading.\n",
            "WARNING:absl:<keras.layers.recurrent.LSTMCell object at 0x7fb8a6376d90> has the same name 'LSTMCell' as a built-in Keras object. Consider renaming <class 'keras.layers.recurrent.LSTMCell'> to avoid naming conflicts when loading with `tf.keras.models.load_model`. If renaming is not possible, pass the object in the `custom_objects` parameter of the load function.\n"
          ]
        },
        {
          "output_type": "stream",
          "name": "stdout",
          "text": [
            "Padding: 0.04\n",
            "\n",
            "\n",
            "Model: \"sequential_10\"\n",
            "_________________________________________________________________\n",
            " Layer (type)                Output Shape              Param #   \n",
            "=================================================================\n",
            " lstm_10 (LSTM)              (None, 200)               164800    \n",
            "                                                                 \n",
            " dense_10 (Dense)            (None, 1)                 201       \n",
            "                                                                 \n",
            "=================================================================\n",
            "Total params: 165,001\n",
            "Trainable params: 165,001\n",
            "Non-trainable params: 0\n",
            "_________________________________________________________________\n",
            "Epoch 1/15\n",
            "3840/3840 [==============================] - 60s 15ms/step - loss: 0.1742 - binary_accuracy: 0.5302 - custom_f1: 0.5077 - false_negatives_10: 22508.0000 - false_positives_10: 22596.0000 - val_loss: 0.1723 - val_binary_accuracy: 0.5442 - val_custom_f1: 0.2518 - val_false_negatives_10: 7875.0000 - val_false_positives_10: 3065.0000\n",
            "Epoch 2/15\n",
            "3840/3840 [==============================] - 53s 14ms/step - loss: 0.1711 - binary_accuracy: 0.5602 - custom_f1: 0.5263 - false_negatives_10: 22900.0000 - false_positives_10: 19317.0000 - val_loss: 0.1704 - val_binary_accuracy: 0.5722 - val_custom_f1: 0.3689 - val_false_negatives_10: 4919.0000 - val_false_positives_10: 5348.0000\n",
            "Epoch 3/15\n",
            "3840/3840 [==============================] - 57s 15ms/step - loss: 0.1670 - binary_accuracy: 0.5978 - custom_f1: 0.5638 - false_negatives_10: 21465.0000 - false_positives_10: 17146.0000 - val_loss: 0.1601 - val_binary_accuracy: 0.6361 - val_custom_f1: 0.3632 - val_false_negatives_10: 5088.0000 - val_false_positives_10: 3645.0000\n",
            "Epoch 4/15\n",
            "3840/3840 [==============================] - 52s 14ms/step - loss: 0.1572 - binary_accuracy: 0.6467 - custom_f1: 0.6113 - false_negatives_10: 19810.0000 - false_positives_10: 14105.0000 - val_loss: 0.1575 - val_binary_accuracy: 0.6485 - val_custom_f1: 0.4097 - val_false_negatives_10: 3610.0000 - val_false_positives_10: 4826.0000\n",
            "Epoch 5/15\n",
            "3840/3840 [==============================] - 53s 14ms/step - loss: 0.1516 - binary_accuracy: 0.6717 - custom_f1: 0.6427 - false_negatives_10: 18186.0000 - false_positives_10: 13331.0000 - val_loss: 0.1539 - val_binary_accuracy: 0.6658 - val_custom_f1: 0.4142 - val_false_negatives_10: 3459.0000 - val_false_positives_10: 4562.0000\n",
            "Epoch 6/15\n",
            "3840/3840 [==============================] - 53s 14ms/step - loss: 0.1468 - binary_accuracy: 0.6890 - custom_f1: 0.6629 - false_negatives_10: 17195.0000 - false_positives_10: 12659.0000 - val_loss: 0.1487 - val_binary_accuracy: 0.6812 - val_custom_f1: 0.4173 - val_false_negatives_10: 3351.0000 - val_false_positives_10: 4300.0000\n",
            "Epoch 7/15\n",
            "3840/3840 [==============================] - 53s 14ms/step - loss: 0.1415 - binary_accuracy: 0.7107 - custom_f1: 0.6853 - false_negatives_10: 16159.0000 - false_positives_10: 11615.0000 - val_loss: 0.1444 - val_binary_accuracy: 0.6965 - val_custom_f1: 0.3626 - val_false_negatives_10: 5092.0000 - val_false_positives_10: 2191.0000\n",
            "Epoch 8/15\n",
            "3840/3840 [==============================] - 53s 14ms/step - loss: 0.1354 - binary_accuracy: 0.7309 - custom_f1: 0.7092 - false_negatives_10: 14944.0000 - false_positives_10: 10889.0000 - val_loss: 0.1423 - val_binary_accuracy: 0.7134 - val_custom_f1: 0.4107 - val_false_negatives_10: 3575.0000 - val_false_positives_10: 3304.0000\n",
            "Epoch 9/15\n",
            "3840/3840 [==============================] - 58s 15ms/step - loss: 0.1292 - binary_accuracy: 0.7476 - custom_f1: 0.7298 - false_negatives_10: 13802.0000 - false_positives_10: 10427.0000 - val_loss: 0.1435 - val_binary_accuracy: 0.7160 - val_custom_f1: 0.4383 - val_false_negatives_10: 2592.0000 - val_false_positives_10: 4225.0000\n",
            "Epoch 10/15\n",
            "3840/3840 [==============================] - 58s 15ms/step - loss: 0.1230 - binary_accuracy: 0.7656 - custom_f1: 0.7497 - false_negatives_10: 12689.0000 - false_positives_10: 9812.0000 - val_loss: 0.1364 - val_binary_accuracy: 0.7369 - val_custom_f1: 0.4198 - val_false_negatives_10: 3267.0000 - val_false_positives_10: 3047.0000\n",
            "Epoch 11/15\n",
            "3840/3840 [==============================] - 58s 15ms/step - loss: 0.1161 - binary_accuracy: 0.7841 - custom_f1: 0.7703 - false_negatives_10: 11637.0000 - false_positives_10: 9087.0000 - val_loss: 0.1333 - val_binary_accuracy: 0.7460 - val_custom_f1: 0.4323 - val_false_negatives_10: 2817.0000 - val_false_positives_10: 3278.0000\n",
            "Epoch 12/15\n",
            "3840/3840 [==============================] - 53s 14ms/step - loss: 0.1107 - binary_accuracy: 0.7992 - custom_f1: 0.7872 - false_negatives_10: 10665.0000 - false_positives_10: 8608.0000 - val_loss: 0.1294 - val_binary_accuracy: 0.7553 - val_custom_f1: 0.4327 - val_false_negatives_10: 2806.0000 - val_false_positives_10: 3067.0000\n",
            "Epoch 13/15\n",
            "3840/3840 [==============================] - 53s 14ms/step - loss: 0.1047 - binary_accuracy: 0.8124 - custom_f1: 0.8020 - false_negatives_10: 9942.0000 - false_positives_10: 8064.0000 - val_loss: 0.1268 - val_binary_accuracy: 0.7667 - val_custom_f1: 0.4155 - val_false_negatives_10: 3416.0000 - val_false_positives_10: 2182.0000\n",
            "Epoch 14/15\n",
            "3840/3840 [==============================] - 58s 15ms/step - loss: 0.1007 - binary_accuracy: 0.8230 - custom_f1: 0.8130 - false_negatives_10: 9379.0000 - false_positives_10: 7616.0000 - val_loss: 0.1250 - val_binary_accuracy: 0.7705 - val_custom_f1: 0.4174 - val_false_negatives_10: 3341.0000 - val_false_positives_10: 2166.0000\n",
            "Epoch 15/15\n",
            "3840/3840 [==============================] - 53s 14ms/step - loss: 0.0962 - binary_accuracy: 0.8331 - custom_f1: 0.8241 - false_negatives_10: 8762.0000 - false_positives_10: 7261.0000 - val_loss: 0.1263 - val_binary_accuracy: 0.7763 - val_custom_f1: 0.4429 - val_false_negatives_10: 2419.0000 - val_false_positives_10: 2950.0000\n"
          ]
        },
        {
          "output_type": "stream",
          "name": "stderr",
          "text": [
            "WARNING:absl:Found untraced functions such as lstm_cell_10_layer_call_fn, lstm_cell_10_layer_call_and_return_conditional_losses while saving (showing 2 of 2). These functions will not be directly callable after loading.\n",
            "WARNING:absl:<keras.layers.recurrent.LSTMCell object at 0x7fb8b217e950> has the same name 'LSTMCell' as a built-in Keras object. Consider renaming <class 'keras.layers.recurrent.LSTMCell'> to avoid naming conflicts when loading with `tf.keras.models.load_model`. If renaming is not possible, pass the object in the `custom_objects` parameter of the load function.\n"
          ]
        },
        {
          "output_type": "stream",
          "name": "stdout",
          "text": [
            "Padding: 0.030303030303030304\n",
            "\n",
            "\n",
            "Model: \"sequential_11\"\n",
            "_________________________________________________________________\n",
            " Layer (type)                Output Shape              Param #   \n",
            "=================================================================\n",
            " lstm_11 (LSTM)              (None, 200)               164800    \n",
            "                                                                 \n",
            " dense_11 (Dense)            (None, 1)                 201       \n",
            "                                                                 \n",
            "=================================================================\n",
            "Total params: 165,001\n",
            "Trainable params: 165,001\n",
            "Non-trainable params: 0\n",
            "_________________________________________________________________\n",
            "Epoch 1/15\n",
            "3840/3840 [==============================] - 55s 14ms/step - loss: 0.1742 - binary_accuracy: 0.5286 - custom_f1: 0.5018 - false_negatives_11: 22723.0000 - false_positives_11: 22527.0000 - val_loss: 0.1726 - val_binary_accuracy: 0.5417 - val_custom_f1: 0.3380 - val_false_negatives_11: 5794.0000 - val_false_positives_11: 5205.0000\n",
            "Epoch 2/15\n",
            "3840/3840 [==============================] - 52s 14ms/step - loss: 0.1708 - binary_accuracy: 0.5639 - custom_f1: 0.5273 - false_negatives_11: 22973.0000 - false_positives_11: 18888.0000 - val_loss: 0.1702 - val_binary_accuracy: 0.5697 - val_custom_f1: 0.3555 - val_false_negatives_11: 5307.0000 - val_false_positives_11: 5021.0000\n",
            "Epoch 3/15\n",
            "3840/3840 [==============================] - 52s 14ms/step - loss: 0.1647 - binary_accuracy: 0.6107 - custom_f1: 0.5818 - false_negatives_11: 20405.0000 - false_positives_11: 16964.0000 - val_loss: 0.1581 - val_binary_accuracy: 0.6414 - val_custom_f1: 0.3693 - val_false_negatives_11: 4897.0000 - val_false_positives_11: 3710.0000\n",
            "Epoch 4/15\n",
            "3840/3840 [==============================] - 52s 14ms/step - loss: 0.1549 - binary_accuracy: 0.6578 - custom_f1: 0.6284 - false_negatives_11: 18891.0000 - false_positives_11: 13963.0000 - val_loss: 0.1547 - val_binary_accuracy: 0.6576 - val_custom_f1: 0.3323 - val_false_negatives_11: 5949.0000 - val_false_positives_11: 2268.0000\n",
            "Epoch 5/15\n",
            "3840/3840 [==============================] - 53s 14ms/step - loss: 0.1499 - binary_accuracy: 0.6794 - custom_f1: 0.6513 - false_negatives_11: 17809.0000 - false_positives_11: 12968.0000 - val_loss: 0.1510 - val_binary_accuracy: 0.6747 - val_custom_f1: 0.3998 - val_false_negatives_11: 3940.0000 - val_false_positives_11: 3866.0000\n",
            "Epoch 6/15\n",
            "3840/3840 [==============================] - 57s 15ms/step - loss: 0.1447 - binary_accuracy: 0.7008 - custom_f1: 0.6755 - false_negatives_11: 16600.0000 - false_positives_11: 12127.0000 - val_loss: 0.1467 - val_binary_accuracy: 0.6997 - val_custom_f1: 0.4088 - val_false_negatives_11: 3641.0000 - val_false_positives_11: 3566.0000\n",
            "Epoch 7/15\n",
            "3840/3840 [==============================] - 53s 14ms/step - loss: 0.1391 - binary_accuracy: 0.7195 - custom_f1: 0.6969 - false_negatives_11: 15433.0000 - false_positives_11: 11498.0000 - val_loss: 0.1427 - val_binary_accuracy: 0.7029 - val_custom_f1: 0.4030 - val_false_negatives_11: 3834.0000 - val_false_positives_11: 3296.0000\n",
            "Epoch 8/15\n",
            "3840/3840 [==============================] - 53s 14ms/step - loss: 0.1324 - binary_accuracy: 0.7394 - custom_f1: 0.7211 - false_negatives_11: 14241.0000 - false_positives_11: 10778.0000 - val_loss: 0.1407 - val_binary_accuracy: 0.7181 - val_custom_f1: 0.4173 - val_false_negatives_11: 3344.0000 - val_false_positives_11: 3422.0000\n",
            "Epoch 9/15\n",
            "3840/3840 [==============================] - 53s 14ms/step - loss: 0.1257 - binary_accuracy: 0.7610 - custom_f1: 0.7444 - false_negatives_11: 12894.0000 - false_positives_11: 10050.0000 - val_loss: 0.1389 - val_binary_accuracy: 0.7207 - val_custom_f1: 0.3738 - val_false_negatives_11: 4760.0000 - val_false_positives_11: 1944.0000\n",
            "Epoch 10/15\n",
            "3840/3840 [==============================] - 52s 14ms/step - loss: 0.1200 - binary_accuracy: 0.7747 - custom_f1: 0.7608 - false_negatives_11: 12105.0000 - false_positives_11: 9528.0000 - val_loss: 0.1339 - val_binary_accuracy: 0.7442 - val_custom_f1: 0.4296 - val_false_negatives_11: 2912.0000 - val_false_positives_11: 3228.0000\n",
            "Epoch 11/15\n",
            "3840/3840 [==============================] - 57s 15ms/step - loss: 0.1132 - binary_accuracy: 0.7926 - custom_f1: 0.7808 - false_negatives_11: 11014.0000 - false_positives_11: 8894.0000 - val_loss: 0.1315 - val_binary_accuracy: 0.7501 - val_custom_f1: 0.4136 - val_false_negatives_11: 3471.0000 - val_false_positives_11: 2527.0000\n",
            "Epoch 12/15\n",
            "3840/3840 [==============================] - 53s 14ms/step - loss: 0.1081 - binary_accuracy: 0.8063 - custom_f1: 0.7961 - false_negatives_11: 10253.0000 - false_positives_11: 8345.0000 - val_loss: 0.1315 - val_binary_accuracy: 0.7608 - val_custom_f1: 0.4182 - val_false_negatives_11: 3313.0000 - val_false_positives_11: 2427.0000\n",
            "Epoch 13/15\n",
            "3840/3840 [==============================] - 52s 14ms/step - loss: 0.1025 - binary_accuracy: 0.8172 - custom_f1: 0.8073 - false_negatives_11: 9574.0000 - false_positives_11: 7974.0000 - val_loss: 0.1286 - val_binary_accuracy: 0.7732 - val_custom_f1: 0.4155 - val_false_negatives_11: 3413.0000 - val_false_positives_11: 2029.0000\n",
            "Epoch 14/15\n",
            "3840/3840 [==============================] - 53s 14ms/step - loss: 0.0974 - binary_accuracy: 0.8299 - custom_f1: 0.8207 - false_negatives_11: 8906.0000 - false_positives_11: 7425.0000 - val_loss: 0.1290 - val_binary_accuracy: 0.7742 - val_custom_f1: 0.4373 - val_false_negatives_11: 2628.0000 - val_false_positives_11: 2792.0000\n",
            "Epoch 15/15\n",
            "3840/3840 [==============================] - 53s 14ms/step - loss: 0.0924 - binary_accuracy: 0.8418 - custom_f1: 0.8332 - false_negatives_11: 8237.0000 - false_positives_11: 6949.0000 - val_loss: 0.1240 - val_binary_accuracy: 0.7838 - val_custom_f1: 0.4283 - val_false_negatives_11: 2962.0000 - val_false_positives_11: 2227.0000\n"
          ]
        },
        {
          "output_type": "stream",
          "name": "stderr",
          "text": [
            "WARNING:absl:Found untraced functions such as lstm_cell_11_layer_call_fn, lstm_cell_11_layer_call_and_return_conditional_losses while saving (showing 2 of 2). These functions will not be directly callable after loading.\n",
            "WARNING:absl:<keras.layers.recurrent.LSTMCell object at 0x7fb819769450> has the same name 'LSTMCell' as a built-in Keras object. Consider renaming <class 'keras.layers.recurrent.LSTMCell'> to avoid naming conflicts when loading with `tf.keras.models.load_model`. If renaming is not possible, pass the object in the `custom_objects` parameter of the load function.\n"
          ]
        },
        {
          "output_type": "stream",
          "name": "stdout",
          "text": [
            "Padding: 0.02\n",
            "\n",
            "\n",
            "Model: \"sequential_12\"\n",
            "_________________________________________________________________\n",
            " Layer (type)                Output Shape              Param #   \n",
            "=================================================================\n",
            " lstm_12 (LSTM)              (None, 200)               164800    \n",
            "                                                                 \n",
            " dense_12 (Dense)            (None, 1)                 201       \n",
            "                                                                 \n",
            "=================================================================\n",
            "Total params: 165,001\n",
            "Trainable params: 165,001\n",
            "Non-trainable params: 0\n",
            "_________________________________________________________________\n",
            "Epoch 1/15\n",
            "3840/3840 [==============================] - 56s 14ms/step - loss: 0.1745 - binary_accuracy: 0.5276 - custom_f1: 0.5062 - false_negatives_12: 22660.0000 - false_positives_12: 22692.0000 - val_loss: 0.1722 - val_binary_accuracy: 0.5414 - val_custom_f1: 0.4025 - val_false_negatives_12: 3853.0000 - val_false_positives_12: 7154.0000\n",
            "Epoch 2/15\n",
            "3840/3840 [==============================] - 54s 14ms/step - loss: 0.1717 - binary_accuracy: 0.5523 - custom_f1: 0.5322 - false_negatives_12: 21872.0000 - false_positives_12: 21103.0000 - val_loss: 0.1708 - val_binary_accuracy: 0.5645 - val_custom_f1: 0.3344 - val_false_negatives_12: 5890.0000 - val_false_positives_12: 4562.0000\n",
            "Epoch 3/15\n",
            "3840/3840 [==============================] - 59s 15ms/step - loss: 0.1686 - binary_accuracy: 0.5864 - custom_f1: 0.5595 - false_negatives_12: 21315.0000 - false_positives_12: 18394.0000 - val_loss: 0.1678 - val_binary_accuracy: 0.5957 - val_custom_f1: 0.3910 - val_false_negatives_12: 4226.0000 - val_false_positives_12: 5478.0000\n",
            "Epoch 4/15\n",
            "3840/3840 [==============================] - 58s 15ms/step - loss: 0.1636 - binary_accuracy: 0.6202 - custom_f1: 0.5963 - false_negatives_12: 19566.0000 - false_positives_12: 16897.0000 - val_loss: 0.1591 - val_binary_accuracy: 0.6414 - val_custom_f1: 0.3372 - val_false_negatives_12: 5824.0000 - val_false_positives_12: 2782.0000\n",
            "Epoch 5/15\n",
            "3840/3840 [==============================] - 53s 14ms/step - loss: 0.1539 - binary_accuracy: 0.6630 - custom_f1: 0.6350 - false_negatives_12: 18402.0000 - false_positives_12: 13950.0000 - val_loss: 0.1523 - val_binary_accuracy: 0.6687 - val_custom_f1: 0.3897 - val_false_negatives_12: 4273.0000 - val_false_positives_12: 3679.0000\n",
            "Epoch 6/15\n",
            "3840/3840 [==============================] - 53s 14ms/step - loss: 0.1488 - binary_accuracy: 0.6842 - custom_f1: 0.6570 - false_negatives_12: 17440.0000 - false_positives_12: 12875.0000 - val_loss: 0.1512 - val_binary_accuracy: 0.6792 - val_custom_f1: 0.4186 - val_false_negatives_12: 3304.0000 - val_false_positives_12: 4395.0000\n",
            "Epoch 7/15\n",
            "3840/3840 [==============================] - 53s 14ms/step - loss: 0.1431 - binary_accuracy: 0.7036 - custom_f1: 0.6800 - false_negatives_12: 16312.0000 - false_positives_12: 12138.0000 - val_loss: 0.1459 - val_binary_accuracy: 0.6987 - val_custom_f1: 0.3734 - val_false_negatives_12: 4779.0000 - val_false_positives_12: 2453.0000\n",
            "Epoch 8/15\n",
            "3840/3840 [==============================] - 53s 14ms/step - loss: 0.1360 - binary_accuracy: 0.7289 - custom_f1: 0.7087 - false_negatives_12: 14762.0000 - false_positives_12: 11260.0000 - val_loss: 0.1439 - val_binary_accuracy: 0.7070 - val_custom_f1: 0.3731 - val_false_negatives_12: 4789.0000 - val_false_positives_12: 2242.0000\n",
            "Epoch 9/15\n",
            "3840/3840 [==============================] - 53s 14ms/step - loss: 0.1291 - binary_accuracy: 0.7489 - custom_f1: 0.7312 - false_negatives_12: 13593.0000 - false_positives_12: 10516.0000 - val_loss: 0.1397 - val_binary_accuracy: 0.7235 - val_custom_f1: 0.4018 - val_false_negatives_12: 3883.0000 - val_false_positives_12: 2752.0000\n",
            "Epoch 10/15\n",
            "3840/3840 [==============================] - 53s 14ms/step - loss: 0.1219 - binary_accuracy: 0.7705 - custom_f1: 0.7571 - false_negatives_12: 12187.0000 - false_positives_12: 9841.0000 - val_loss: 0.1344 - val_binary_accuracy: 0.7357 - val_custom_f1: 0.4118 - val_false_negatives_12: 3537.0000 - val_false_positives_12: 2806.0000\n",
            "Epoch 11/15\n",
            "3840/3840 [==============================] - 52s 14ms/step - loss: 0.1151 - binary_accuracy: 0.7871 - custom_f1: 0.7745 - false_negatives_12: 11299.0000 - false_positives_12: 9136.0000 - val_loss: 0.1331 - val_binary_accuracy: 0.7473 - val_custom_f1: 0.4135 - val_false_negatives_12: 3486.0000 - val_false_positives_12: 2579.0000\n",
            "Epoch 12/15\n",
            "3840/3840 [==============================] - 57s 15ms/step - loss: 0.1084 - binary_accuracy: 0.8033 - custom_f1: 0.7923 - false_negatives_12: 10361.0000 - false_positives_12: 8526.0000 - val_loss: 0.1310 - val_binary_accuracy: 0.7593 - val_custom_f1: 0.4200 - val_false_negatives_12: 3259.0000 - val_false_positives_12: 2518.0000\n",
            "Epoch 13/15\n",
            "3840/3840 [==============================] - 53s 14ms/step - loss: 0.1037 - binary_accuracy: 0.8159 - custom_f1: 0.8055 - false_negatives_12: 9647.0000 - false_positives_12: 8027.0000 - val_loss: 0.1307 - val_binary_accuracy: 0.7609 - val_custom_f1: 0.4222 - val_false_negatives_12: 3185.0000 - val_false_positives_12: 2553.0000\n",
            "Epoch 14/15\n",
            "3840/3840 [==============================] - 52s 14ms/step - loss: 0.0988 - binary_accuracy: 0.8258 - custom_f1: 0.8170 - false_negatives_12: 9048.0000 - false_positives_12: 7676.0000 - val_loss: 0.1256 - val_binary_accuracy: 0.7747 - val_custom_f1: 0.4291 - val_false_negatives_12: 2932.0000 - val_false_positives_12: 2476.0000\n",
            "Epoch 15/15\n",
            "3840/3840 [==============================] - 57s 15ms/step - loss: 0.0943 - binary_accuracy: 0.8345 - custom_f1: 0.8266 - false_negatives_12: 8550.0000 - false_positives_12: 7335.0000 - val_loss: 0.1307 - val_binary_accuracy: 0.7713 - val_custom_f1: 0.4170 - val_false_negatives_12: 3360.0000 - val_false_positives_12: 2129.0000\n"
          ]
        },
        {
          "output_type": "stream",
          "name": "stderr",
          "text": [
            "WARNING:absl:Found untraced functions such as lstm_cell_12_layer_call_fn, lstm_cell_12_layer_call_and_return_conditional_losses while saving (showing 2 of 2). These functions will not be directly callable after loading.\n",
            "WARNING:absl:<keras.layers.recurrent.LSTMCell object at 0x7fb8b5a19090> has the same name 'LSTMCell' as a built-in Keras object. Consider renaming <class 'keras.layers.recurrent.LSTMCell'> to avoid naming conflicts when loading with `tf.keras.models.load_model`. If renaming is not possible, pass the object in the `custom_objects` parameter of the load function.\n"
          ]
        },
        {
          "output_type": "stream",
          "name": "stdout",
          "text": [
            "Padding: 0.01\n",
            "\n",
            "\n",
            "Model: \"sequential_13\"\n",
            "_________________________________________________________________\n",
            " Layer (type)                Output Shape              Param #   \n",
            "=================================================================\n",
            " lstm_13 (LSTM)              (None, 200)               164800    \n",
            "                                                                 \n",
            " dense_13 (Dense)            (None, 1)                 201       \n",
            "                                                                 \n",
            "=================================================================\n",
            "Total params: 165,001\n",
            "Trainable params: 165,001\n",
            "Non-trainable params: 0\n",
            "_________________________________________________________________\n",
            "Epoch 1/15\n",
            "3840/3840 [==============================] - 55s 14ms/step - loss: 0.1742 - binary_accuracy: 0.5271 - custom_f1: 0.4967 - false_negatives_13: 22983.0000 - false_positives_13: 22413.0000 - val_loss: 0.1721 - val_binary_accuracy: 0.5345 - val_custom_f1: 0.3988 - val_false_negatives_13: 3981.0000 - val_false_positives_13: 7190.0000\n",
            "Epoch 2/15\n",
            "3840/3840 [==============================] - 58s 15ms/step - loss: 0.1727 - binary_accuracy: 0.5376 - custom_f1: 0.5029 - false_negatives_13: 23441.0000 - false_positives_13: 20950.0000 - val_loss: 0.1717 - val_binary_accuracy: 0.5480 - val_custom_f1: 0.3593 - val_false_negatives_13: 5182.0000 - val_false_positives_13: 5665.0000\n",
            "Epoch 3/15\n",
            "3840/3840 [==============================] - 53s 14ms/step - loss: 0.1706 - binary_accuracy: 0.5680 - custom_f1: 0.5417 - false_negatives_13: 21909.0000 - false_positives_13: 19559.0000 - val_loss: 0.1688 - val_binary_accuracy: 0.5857 - val_custom_f1: 0.3265 - val_false_negatives_13: 6106.0000 - val_false_positives_13: 3836.0000\n",
            "Epoch 4/15\n",
            "3840/3840 [==============================] - 53s 14ms/step - loss: 0.1661 - binary_accuracy: 0.6038 - custom_f1: 0.5764 - false_negatives_13: 20718.0000 - false_positives_13: 17320.0000 - val_loss: 0.1609 - val_binary_accuracy: 0.6307 - val_custom_f1: 0.3903 - val_false_negatives_13: 4249.0000 - val_false_positives_13: 4614.0000\n",
            "Epoch 5/15\n",
            "3840/3840 [==============================] - 53s 14ms/step - loss: 0.1561 - binary_accuracy: 0.6514 - custom_f1: 0.6212 - false_negatives_13: 19078.0000 - false_positives_13: 14387.0000 - val_loss: 0.1548 - val_binary_accuracy: 0.6631 - val_custom_f1: 0.3788 - val_false_negatives_13: 4605.0000 - val_false_positives_13: 3480.0000\n",
            "Epoch 6/15\n",
            "3840/3840 [==============================] - 53s 14ms/step - loss: 0.1507 - binary_accuracy: 0.6772 - custom_f1: 0.6493 - false_negatives_13: 17889.0000 - false_positives_13: 13096.0000 - val_loss: 0.1521 - val_binary_accuracy: 0.6702 - val_custom_f1: 0.4034 - val_false_negatives_13: 3821.0000 - val_false_positives_13: 4095.0000\n",
            "Epoch 7/15\n",
            "3840/3840 [==============================] - 58s 15ms/step - loss: 0.1455 - binary_accuracy: 0.6948 - custom_f1: 0.6693 - false_negatives_13: 16963.0000 - false_positives_13: 12335.0000 - val_loss: 0.1486 - val_binary_accuracy: 0.6858 - val_custom_f1: 0.3785 - val_false_negatives_13: 4620.0000 - val_false_positives_13: 2920.0000\n",
            "Epoch 8/15\n",
            "3840/3840 [==============================] - 58s 15ms/step - loss: 0.1394 - binary_accuracy: 0.7173 - custom_f1: 0.6951 - false_negatives_13: 15580.0000 - false_positives_13: 11560.0000 - val_loss: 0.1470 - val_binary_accuracy: 0.6880 - val_custom_f1: 0.4324 - val_false_negatives_13: 2815.0000 - val_false_positives_13: 4673.0000\n",
            "Epoch 9/15\n",
            "3840/3840 [==============================] - 58s 15ms/step - loss: 0.1332 - binary_accuracy: 0.7362 - custom_f1: 0.7169 - false_negatives_13: 14342.0000 - false_positives_13: 10984.0000 - val_loss: 0.1429 - val_binary_accuracy: 0.7127 - val_custom_f1: 0.3959 - val_false_negatives_13: 4067.0000 - val_false_positives_13: 2828.0000\n",
            "Epoch 10/15\n",
            "3840/3840 [==============================] - 54s 14ms/step - loss: 0.1273 - binary_accuracy: 0.7536 - custom_f1: 0.7366 - false_negatives_13: 13411.0000 - false_positives_13: 10247.0000 - val_loss: 0.1392 - val_binary_accuracy: 0.7222 - val_custom_f1: 0.4016 - val_false_negatives_13: 3880.0000 - val_false_positives_13: 2787.0000\n",
            "Epoch 11/15\n",
            "3840/3840 [==============================] - 58s 15ms/step - loss: 0.1221 - binary_accuracy: 0.7692 - custom_f1: 0.7538 - false_negatives_13: 12544.0000 - false_positives_13: 9613.0000 - val_loss: 0.1373 - val_binary_accuracy: 0.7279 - val_custom_f1: 0.4150 - val_false_negatives_13: 3431.0000 - val_false_positives_13: 3100.0000\n",
            "Epoch 12/15\n",
            "3840/3840 [==============================] - 53s 14ms/step - loss: 0.1160 - binary_accuracy: 0.7848 - custom_f1: 0.7706 - false_negatives_13: 11627.0000 - false_positives_13: 9034.0000 - val_loss: 0.1361 - val_binary_accuracy: 0.7395 - val_custom_f1: 0.4286 - val_false_negatives_13: 2945.0000 - val_false_positives_13: 3307.0000\n",
            "Epoch 13/15\n",
            "3840/3840 [==============================] - 53s 14ms/step - loss: 0.1106 - binary_accuracy: 0.7973 - custom_f1: 0.7851 - false_negatives_13: 10872.0000 - false_positives_13: 8585.0000 - val_loss: 0.1356 - val_binary_accuracy: 0.7407 - val_custom_f1: 0.4119 - val_false_negatives_13: 3534.0000 - val_false_positives_13: 2690.0000\n",
            "Epoch 14/15\n",
            "3840/3840 [==============================] - 53s 14ms/step - loss: 0.1057 - binary_accuracy: 0.8103 - custom_f1: 0.7990 - false_negatives_13: 10063.0000 - false_positives_13: 8150.0000 - val_loss: 0.1331 - val_binary_accuracy: 0.7494 - val_custom_f1: 0.3919 - val_false_negatives_13: 4205.0000 - val_false_positives_13: 1810.0000\n",
            "Epoch 15/15\n",
            "3840/3840 [==============================] - 53s 14ms/step - loss: 0.1003 - binary_accuracy: 0.8232 - custom_f1: 0.8134 - false_negatives_13: 9318.0000 - false_positives_13: 7656.0000 - val_loss: 0.1325 - val_binary_accuracy: 0.7628 - val_custom_f1: 0.4366 - val_false_negatives_13: 2652.0000 - val_false_positives_13: 3042.0000\n"
          ]
        },
        {
          "output_type": "stream",
          "name": "stderr",
          "text": [
            "WARNING:absl:Found untraced functions such as lstm_cell_13_layer_call_fn, lstm_cell_13_layer_call_and_return_conditional_losses while saving (showing 2 of 2). These functions will not be directly callable after loading.\n",
            "WARNING:absl:<keras.layers.recurrent.LSTMCell object at 0x7fb8b5fd3750> has the same name 'LSTMCell' as a built-in Keras object. Consider renaming <class 'keras.layers.recurrent.LSTMCell'> to avoid naming conflicts when loading with `tf.keras.models.load_model`. If renaming is not possible, pass the object in the `custom_objects` parameter of the load function.\n"
          ]
        }
      ]
    },
    {
      "cell_type": "code",
      "source": [
        "import matplotlib.pyplot as plt\n",
        "\n",
        "labels = [\"1.0\", \"0.5\", \"0.33\", \"0.25\", \"0.2\", \"0.14\", \"0.1\", \"0.07\", \"0.05\", \"0.04\", \"0.03\", \"0.02\", \"0.01\"]\n",
        "\n",
        "acc = [0.7894, 0.7732, 0.7782, 0.7868, 0.7849, 0.7565, 0.7752, 0.7703, 0.7752, 0.7763, 0.7838, 0.7713, 0.7628]\n",
        "f1 = [0.4401, 0.4199, 0.4189, 0.4420, 0.4280, 0.3982, 0.4323, 0.4320, 0.4305, 0.4429, 0.4283, 0.4170, 0.4366]\n",
        "loss = [0.1218, 0.1253, 0.1239, 0.1242, 0.1245, 0.1304, 0.1247, 0.1278, 0.1271, 0.1263, 0.1240, 0.1307, 0.1325]\n",
        "plt.plot(labels, loss)\n",
        "\n",
        "plt.title(\"Loss on different padding sizes after 15 epochs\")\n",
        "plt.xlabel(\"Padding size\")\n",
        "plt.ylabel(\"Loss\")\n",
        "plt.grid()\n",
        "plt.show()"
      ],
      "metadata": {
        "colab": {
          "base_uri": "https://localhost:8080/",
          "height": 295
        },
        "id": "9QFQhlx7y7nx",
        "outputId": "2a16c008-73cc-41df-aa84-034fe807f418"
      },
      "execution_count": null,
      "outputs": [
        {
          "output_type": "display_data",
          "data": {
            "text/plain": [
              "<Figure size 432x288 with 1 Axes>"
            ],
            "image/png": "[encoded data removed]"
          },
          "metadata": {
            "needs_background": "light"
          }
        }
      ]
    },
    {
      "cell_type": "code",
      "source": [
        "import os\n",
        "from sklearn.metrics import confusion_matrix\n",
        "\n",
        "import matplotlib.pyplot as plt\n",
        "from matplotlib.colors import ListedColormap\n",
        "import seaborn\n",
        "\n",
        "dividors = [1, 2, 3, 4, 5, 7, 10, 14, 20, 25, 33, 50, 100]\n",
        "\n",
        "for idx, x in enumerate([i for i in next(os.walk('/content/drive/MyDrive/MODELS'))[1] if i >= \"LSTM_2022-09-10\"]):\n",
        "    model = None\n",
        "    model = keras.models.load_model(f'/content/drive/MyDrive/MODELS/{x}', custom_objects={\"custom_f1\":custom_f1})\n",
        "\n",
        "    d = 1 / dividors[idx]\n",
        "    padX = padding(X, d)\n",
        "\n",
        "    legitX, cheatX = np.split(padX, 2)\n",
        "    legitY, cheatY = np.split(Y, 2)\n",
        "\n",
        "    ltX, leX, ltY, leY = train_test_split(legitX, legitY, test_size=0.20)\n",
        "    ctX, ceX, ctY, ceY = train_test_split(cheatX, cheatY, test_size=0.20)\n",
        "\n",
        "    tX = np.concatenate((ltX, ctX))\n",
        "    eX = np.concatenate((leX, ceX))\n",
        "    tY = np.concatenate((ltY, ctY))\n",
        "    eY = np.concatenate((leY, ceY))\n",
        "\n",
        "\n",
        "    predY = model.predict(eX)\n",
        "    predY = predY.flatten()\n",
        "\n",
        "\n",
        "    confMatr = confusion_matrix(np.where(eY > 0.5, 1, 0), np.where(predY > 0.5, 1, 0) , normalize='pred')\n",
        "\n",
        "    seaborn.heatmap(confMatr, annot = True, cmap = ListedColormap(['white', \"green\"]), cbar = False, xticklabels = [\"Negatives\", \"Positives\"], yticklabels = [\"Negatives\", \"Positives\"])\n",
        "\n",
        "    pad = round(d, 2)\n",
        "    plt.title(f'Confusion matrix for the model with {pad} padding')\n",
        "    plt.xlabel(\"Predicted\")\n",
        "    plt.ylabel(\"Actual\")\n",
        "    plt.show()\n",
        "\n",
        "\"\"\"\n",
        "for d in dividors:\n",
        "  d = 1 / d\n",
        "  padX = padding(X, d)\n",
        "\n",
        "  legitX, cheatX = np.split(padX, 2)\n",
        "  legitY, cheatY = np.split(Y, 2)\n",
        "\n",
        "  ltX, leX, ltY, leY = train_test_split(legitX, legitY, test_size=0.20)\n",
        "  ctX, ceX, ctY, ceY = train_test_split(cheatX, cheatY, test_size=0.20)\n",
        "\n",
        "  tX = np.concatenate((ltX, ctX))\n",
        "  eX = np.concatenate((leX, ceX))\n",
        "  tY = np.concatenate((ltY, ctY))\n",
        "  eY = np.concatenate((leY, ceY))\n",
        "\n",
        "  model = Sequential()\n",
        "  model.add(Input(shape=(192, 5)))\n",
        "  model.add(LSTM(200))\n",
        "  model.add(Dense(1, activation = \"sigmoid\"))\n",
        "\n",
        "  model.compile(optimizer=keras.optimizers.Adam(learning_rate=1e-3),\n",
        "              loss=keras.losses.BinaryFocalCrossentropy(),\n",
        "              metrics=[keras.metrics.BinaryAccuracy(),\n",
        "                       custom_f1,\n",
        "                       keras.metrics.FalseNegatives(),\n",
        "                       keras.metrics.FalsePositives()\n",
        "                       ])\n",
        "\n",
        "  print(f\"Padding: {d}\\n\\n\")\n",
        "  telegrambot.send_message(text=f\"Padding: {d}\", chat_id=1163033817)\n",
        "  model.summary()\n",
        "  model.fit(tX, tY, batch_size = 25, epochs = 15, validation_data = (eX, eY), shuffle = True, use_multiprocessing = True, verbose = 1, callbacks=[CustomCallback()])\n",
        "  model.save(\"/content/drive/MyDrive/MODELS/LSTM_\" + datetime.now().strftime(\"%Y-%m-%d_%H:%M\"))\n",
        "  telegrambot.send_message(text=f\"Model saved\", chat_id=1163033817)\n",
        "\n",
        "\"\"\""
      ],
      "metadata": {
        "colab": {
          "base_uri": "https://localhost:8080/",
          "height": 1000
        },
        "id": "pvArmIpIrg2H",
        "outputId": "56e5cd4c-4296-4bb3-c404-fd619d49e51d"
      },
      "execution_count": 7,
      "outputs": [
        {
          "output_type": "display_data",
          "data": {
            "text/plain": [
              "<Figure size 432x288 with 1 Axes>"
            ],
            "image/png": "[encoded data removed]"
          },
          "metadata": {
            "needs_background": "light"
          }
        },
        {
          "output_type": "display_data",
          "data": {
            "text/plain": [
              "<Figure size 432x288 with 1 Axes>"
            ],
            "image/png": "[encoded data removed]"
          },
          "metadata": {
            "needs_background": "light"
          }
        },
        {
          "output_type": "display_data",
          "data": {
            "text/plain": [
              "<Figure size 432x288 with 1 Axes>"
            ],
            "image/png": "[encoded data removed]"
          },
          "metadata": {
            "needs_background": "light"
          }
        },
        {
          "output_type": "display_data",
          "data": {
            "text/plain": [
              "<Figure size 432x288 with 1 Axes>"
            ],
            "image/png": "[encoded data removed]"
          },
          "metadata": {
            "needs_background": "light"
          }
        },
        {
          "output_type": "display_data",
          "data": {
            "text/plain": [
              "<Figure size 432x288 with 1 Axes>"
            ],
            "image/png": "[encoded data removed]"
          },
          "metadata": {
            "needs_background": "light"
          }
        },
        {
          "output_type": "display_data",
          "data": {
            "text/plain": [
              "<Figure size 432x288 with 1 Axes>"
            ],
            "image/png": "[encoded data removed]"
          },
          "metadata": {
            "needs_background": "light"
          }
        },
        {
          "output_type": "display_data",
          "data": {
            "text/plain": [
              "<Figure size 432x288 with 1 Axes>"
            ],
            "image/png": "[encoded data removed]"
          },
          "metadata": {
            "needs_background": "light"
          }
        },
        {
          "output_type": "display_data",
          "data": {
            "text/plain": [
              "<Figure size 432x288 with 1 Axes>"
            ],
            "image/png": "[encoded data removed]"
          },
          "metadata": {
            "needs_background": "light"
          }
        },
        {
          "output_type": "display_data",
          "data": {
            "text/plain": [
              "<Figure size 432x288 with 1 Axes>"
            ],
            "image/png": "[encoded data removed]"
          },
          "metadata": {
            "needs_background": "light"
          }
        },
        {
          "output_type": "display_data",
          "data": {
            "text/plain": [
              "<Figure size 432x288 with 1 Axes>"
            ],
            "image/png": "[encoded data removed]"
          },
          "metadata": {
            "needs_background": "light"
          }
        },
        {
          "output_type": "display_data",
          "data": {
            "text/plain": [
              "<Figure size 432x288 with 1 Axes>"
            ],
            "image/png": "[encoded data removed]"
          },
          "metadata": {
            "needs_background": "light"
          }
        },
        {
          "output_type": "display_data",
          "data": {
            "text/plain": [
              "<Figure size 432x288 with 1 Axes>"
            ],
            "image/png": "[encoded data removed]"
          },
          "metadata": {
            "needs_background": "light"
          }
        },
        {
          "output_type": "display_data",
          "data": {
            "text/plain": [
              "<Figure size 432x288 with 1 Axes>"
            ],
            "image/png": "[encoded data removed]"
          },
          "metadata": {
            "needs_background": "light"
          }
        },
        {
          "output_type": "execute_result",
          "data": {
            "text/plain": [
              "'\\nfor d in dividors:\\n  d = 1 / d\\n  padX = padding(X, d)\\n\\n  legitX, cheatX = np.split(padX, 2)\\n  legitY, cheatY = np.split(Y, 2)\\n\\n  ltX, leX, ltY, leY = train_test_split(legitX, legitY, test_size=0.20)\\n  ctX, ceX, ctY, ceY = train_test_split(cheatX, cheatY, test_size=0.20)\\n\\n  tX = np.concatenate((ltX, ctX))\\n  eX = np.concatenate((leX, ceX))\\n  tY = np.concatenate((ltY, ctY))\\n  eY = np.concatenate((leY, ceY))\\n\\n  model = Sequential()\\n  model.add(Input(shape=(192, 5)))\\n  model.add(LSTM(200))\\n  model.add(Dense(1, activation = \"sigmoid\"))\\n\\n  model.compile(optimizer=keras.optimizers.Adam(learning_rate=1e-3),\\n              loss=keras.losses.BinaryFocalCrossentropy(),\\n              metrics=[keras.metrics.BinaryAccuracy(),\\n                       custom_f1,\\n                       keras.metrics.FalseNegatives(),\\n                       keras.metrics.FalsePositives()\\n                       ])\\n\\n  print(f\"Padding: {d}\\n\\n\")\\n  telegrambot.send_message(text=f\"Padding: {d}\", chat_id=1163033817)\\n  model.summary()\\n  model.fit(tX, tY, batch_size = 25, epochs = 15, validation_data = (eX, eY), shuffle = True, use_multiprocessing = True, verbose = 1, callbacks=[CustomCallback()])\\n  model.save(\"/content/drive/MyDrive/MODELS/LSTM_\" + datetime.now().strftime(\"%Y-%m-%d_%H:%M\"))\\n  telegrambot.send_message(text=f\"Model saved\", chat_id=1163033817)\\n\\n'"
            ],
            "application/vnd.google.colaboratory.intrinsic+json": {
              "type": "string"
            }
          },
          "metadata": {},
          "execution_count": 7
        }
      ]
    }
  ],
  "metadata": {
    "colab": {
      "collapsed_sections": [],
      "provenance": [],
      "include_colab_link": true
    },
    "gpuClass": "standard",
    "kernelspec": {
      "display_name": "Python 3",
      "name": "python3"
    },
    "language_info": {
      "name": "python"
    },
    "accelerator": "GPU"
  },
  "nbformat": 4,
  "nbformat_minor": 0
}